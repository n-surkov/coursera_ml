{
 "cells": [
  {
   "cell_type": "markdown",
   "metadata": {},
   "source": [
    "# Идентификация пользователей по посещенным веб-страницам"
   ]
  },
  {
   "cell_type": "markdown",
   "metadata": {},
   "source": [
    "Ниже представлен пайплайн разработки алгоритма, который будет анализировать последовательность из нескольких веб-сайтов, посещенных подряд одним и тем же пользователем, и определять, Элис это или взломщик (кто-то другой). Более подробное описание задачи содержится в описании [соревнования](https://www.kaggle.com/c/catch-me-if-you-can-intruder-detection-through-webpage-session-tracking2/overview). \n",
    "\n",
    "**Ниже представлена навигация по основным пунктам пайплайна:**\n",
    "* [Описание исходных данных](#Описание-исходных-данных)\n",
    "* [Исследование исходных данных](#Исследование-исходных-данных)\n",
    "* [Генерация дополнительных фичей](#Генерация-пространства-признаков)\n",
    "* [Подбор модели и её параметров](#Выбор-модели-и-её-параметров)\n",
    "* [Дополнение обучающей выборки](#Дополнение-обучающей-выборки)\n",
    "* [Выводы](#Выводы)"
   ]
  },
  {
   "cell_type": "markdown",
   "metadata": {},
   "source": [
    "# Описание исходных данных"
   ]
  },
  {
   "cell_type": "markdown",
   "metadata": {},
   "source": [
    "[Исходные данные](https://www.kaggle.com/c/catch-me-if-you-can-intruder-detection-through-webpage-session-tracking2/data) содержат следующие файлы: \n",
    "* `train_sessions.csv`\n",
    "* `test_sessions.csv`\n",
    "* `site_dic.pkl`\n",
    "* `train.zip`\n",
    "\n",
    "`train_sessions.csv` и `test_sessions.csv` представляют собой сессии (последовательности посещённых пользователем сайтов) размером не более 10 сайтов и продолжительностью не более 30 минут. Сессии содержат следующие столбцы:\n",
    "* site_i -- id j-го сайта, посещённого пользователем. Соответствие id-сайт представлено в словаре `site_dic.pkl`\n",
    "* time_j -- время посещения соответствующего сайта\n",
    "* target -- отметка сессий выполненных Alice (1-Alice, 0-noAlice)\n",
    "\n",
    "Дополнительно в архиве `train.zip` представленны исходные данные, из которых формировались тренировочные сессии."
   ]
  },
  {
   "cell_type": "markdown",
   "metadata": {},
   "source": [
    "# Импорт библиотек и служебные функции"
   ]
  },
  {
   "cell_type": "code",
   "execution_count": 1,
   "metadata": {},
   "outputs": [],
   "source": [
    "# ignore warnings\n",
    "import warnings\n",
    "warnings.filterwarnings('ignore')\n",
    "# plotting lib's\n",
    "%matplotlib inline\n",
    "from matplotlib import pyplot as plt\n",
    "import seaborn as sns\n",
    "# sklearn\n",
    "from sklearn.model_selection import TimeSeriesSplit, cross_val_score, StratifiedKFold, GridSearchCV\n",
    "from sklearn.model_selection import validation_curve, learning_curve\n",
    "from sklearn.metrics import roc_auc_score\n",
    "from sklearn.feature_extraction.text import TfidfVectorizer, CountVectorizer\n",
    "from sklearn.metrics import accuracy_score , roc_curve, auc, roc_auc_score\n",
    "from sklearn.linear_model import SGDClassifier, LogisticRegressionCV, LogisticRegression\n",
    "from sklearn.svm import LinearSVC, SVC\n",
    "from sklearn.preprocessing import StandardScaler\n",
    "# support\n",
    "import pickle\n",
    "import numpy as np\n",
    "import pandas as pd\n",
    "from scipy.sparse import hstack, csr_matrix\n",
    "import os"
   ]
  },
  {
   "cell_type": "code",
   "execution_count": 2,
   "metadata": {},
   "outputs": [],
   "source": [
    "def write_to_submission_file(predicted_labels, out_file,\n",
    "                             target='target', index_label=\"session_id\"):\n",
    "    predicted_df = pd.DataFrame(predicted_labels,\n",
    "                                index = np.arange(1, predicted_labels.shape[0] + 1),\n",
    "                                columns=[target])\n",
    "    predicted_df.to_csv(out_file, index_label=index_label)"
   ]
  },
  {
   "cell_type": "code",
   "execution_count": 3,
   "metadata": {},
   "outputs": [],
   "source": [
    "def plot_feature(train_feature, test_feature, target, xlim=None, bins=None):\n",
    "    fig, axes = plt.subplots(2, 2, sharex=True, figsize=(16, 8))\n",
    "    \n",
    "    axes[0][0].set_title('Train dataset hist')\n",
    "    axes[0][0].hist(train_feature, range=xlim, bins=bins, color='green')\n",
    "    \n",
    "    axes[1][0].set_title('Test dataset hist')\n",
    "    axes[1][0].hist(test_feature, range=xlim, bins=bins, color='orange')\n",
    "    \n",
    "    axes[0][1].set_title('Alice hist')\n",
    "    axes[0][1].hist(train_feature[target == 1], range=xlim, bins=bins, color='darkviolet')\n",
    "    \n",
    "    axes[1][1].set_title('Someone hist')\n",
    "    axes[1][1].hist(train_feature[target == 0], range=xlim, bins=bins, color='grey')\n",
    "    \n",
    "    return fig, axes"
   ]
  },
  {
   "cell_type": "code",
   "execution_count": 4,
   "metadata": {},
   "outputs": [],
   "source": [
    "def plot_validation_curves(param_values, grid_cv_results_):\n",
    "    train_mu, train_std = grid_cv_results_['mean_train_score'], grid_cv_results_['std_train_score']\n",
    "    valid_mu, valid_std = grid_cv_results_['mean_test_score'], grid_cv_results_['std_test_score']\n",
    "    train_line = plt.plot(param_values, train_mu, '-', label='train', color='green')\n",
    "    valid_line = plt.plot(param_values, valid_mu, '-', label='test', color='red')\n",
    "    plt.fill_between(param_values, train_mu - train_std, train_mu + train_std, edgecolor='none',\n",
    "                     facecolor=train_line[0].get_color(), alpha=0.2)\n",
    "    plt.fill_between(param_values, valid_mu - valid_std, valid_mu + valid_std, edgecolor='none',\n",
    "                     facecolor=valid_line[0].get_color(), alpha=0.2)\n",
    "    plt.legend()"
   ]
  },
  {
   "cell_type": "markdown",
   "metadata": {},
   "source": [
    "# Исследование исходных данных"
   ]
  },
  {
   "cell_type": "markdown",
   "metadata": {},
   "source": [
    "**Загрузим исходные данные**"
   ]
  },
  {
   "cell_type": "code",
   "execution_count": 5,
   "metadata": {},
   "outputs": [],
   "source": [
    "# path to data\n",
    "PATH_TO_DATA = os.path.join('.', '..', 'data', 'kaggle')"
   ]
  },
  {
   "cell_type": "code",
   "execution_count": 6,
   "metadata": {},
   "outputs": [],
   "source": [
    "# readind train and test datasets\n",
    "time_columns = ['time%s' % i for i in range(1, 11)]\n",
    "site_columns = ['site%s' % i for i in range(1, 11)]\n",
    "\n",
    "train_df = pd.read_csv(os.path.join(PATH_TO_DATA, 'train_sessions.csv'),\n",
    "                       index_col='session_id',\n",
    "                       parse_dates=time_columns)\n",
    "test_df = pd.read_csv(os.path.join(PATH_TO_DATA, 'test_sessions.csv'),\n",
    "                      index_col='session_id',\n",
    "                      parse_dates=time_columns)\n",
    "# reading sites mapping\n",
    "with open(os.path.join(PATH_TO_DATA, 'site_dic.pkl'), 'rb') as fo:\n",
    "    site_dic = pickle.load(fo)"
   ]
  },
  {
   "cell_type": "code",
   "execution_count": 7,
   "metadata": {},
   "outputs": [
    {
     "name": "stdout",
     "output_type": "stream",
     "text": [
      "2014-04-30 23:39:53 last session in train\n",
      "2014-05-01 17:14:03 first session in test\n"
     ]
    }
   ],
   "source": [
    "print('{} last session in train'.format(train_df['time1'].max()))\n",
    "print('{} first session in test'.format(test_df['time1'].min()))"
   ]
  },
  {
   "cell_type": "markdown",
   "metadata": {},
   "source": [
    "**Видно, что тренировочная и тестовая выборки разделены по времени, поэтому имеет смысл делить тренировочную выборку на обучение и валидацию также по времени. Для этого применим [TimeSeriesSplit](https://scikit-learn.org/stable/modules/generated/sklearn.model_selection.TimeSeriesSplit.html)**"
   ]
  },
  {
   "cell_type": "code",
   "execution_count": 8,
   "metadata": {},
   "outputs": [],
   "source": [
    "# sort data\n",
    "train_df = train_df.sort_values(by='time1')"
   ]
  },
  {
   "cell_type": "code",
   "execution_count": 9,
   "metadata": {},
   "outputs": [
    {
     "data": {
      "text/html": [
       "<div>\n",
       "<style scoped>\n",
       "    .dataframe tbody tr th:only-of-type {\n",
       "        vertical-align: middle;\n",
       "    }\n",
       "\n",
       "    .dataframe tbody tr th {\n",
       "        vertical-align: top;\n",
       "    }\n",
       "\n",
       "    .dataframe thead th {\n",
       "        text-align: right;\n",
       "    }\n",
       "</style>\n",
       "<table border=\"1\" class=\"dataframe\">\n",
       "  <thead>\n",
       "    <tr style=\"text-align: right;\">\n",
       "      <th></th>\n",
       "      <th>site1</th>\n",
       "      <th>time1</th>\n",
       "      <th>site2</th>\n",
       "      <th>time2</th>\n",
       "      <th>site3</th>\n",
       "      <th>time3</th>\n",
       "      <th>site4</th>\n",
       "      <th>time4</th>\n",
       "      <th>site5</th>\n",
       "      <th>time5</th>\n",
       "      <th>...</th>\n",
       "      <th>time6</th>\n",
       "      <th>site7</th>\n",
       "      <th>time7</th>\n",
       "      <th>site8</th>\n",
       "      <th>time8</th>\n",
       "      <th>site9</th>\n",
       "      <th>time9</th>\n",
       "      <th>site10</th>\n",
       "      <th>time10</th>\n",
       "      <th>target</th>\n",
       "    </tr>\n",
       "    <tr>\n",
       "      <th>session_id</th>\n",
       "      <th></th>\n",
       "      <th></th>\n",
       "      <th></th>\n",
       "      <th></th>\n",
       "      <th></th>\n",
       "      <th></th>\n",
       "      <th></th>\n",
       "      <th></th>\n",
       "      <th></th>\n",
       "      <th></th>\n",
       "      <th></th>\n",
       "      <th></th>\n",
       "      <th></th>\n",
       "      <th></th>\n",
       "      <th></th>\n",
       "      <th></th>\n",
       "      <th></th>\n",
       "      <th></th>\n",
       "      <th></th>\n",
       "      <th></th>\n",
       "      <th></th>\n",
       "    </tr>\n",
       "  </thead>\n",
       "  <tbody>\n",
       "    <tr>\n",
       "      <th>21669</th>\n",
       "      <td>56</td>\n",
       "      <td>2013-01-12 08:05:57</td>\n",
       "      <td>55.0</td>\n",
       "      <td>2013-01-12 08:05:57</td>\n",
       "      <td>NaN</td>\n",
       "      <td>NaT</td>\n",
       "      <td>NaN</td>\n",
       "      <td>NaT</td>\n",
       "      <td>NaN</td>\n",
       "      <td>NaT</td>\n",
       "      <td>...</td>\n",
       "      <td>NaT</td>\n",
       "      <td>NaN</td>\n",
       "      <td>NaT</td>\n",
       "      <td>NaN</td>\n",
       "      <td>NaT</td>\n",
       "      <td>NaN</td>\n",
       "      <td>NaT</td>\n",
       "      <td>NaN</td>\n",
       "      <td>NaT</td>\n",
       "      <td>0</td>\n",
       "    </tr>\n",
       "    <tr>\n",
       "      <th>54843</th>\n",
       "      <td>56</td>\n",
       "      <td>2013-01-12 08:37:23</td>\n",
       "      <td>55.0</td>\n",
       "      <td>2013-01-12 08:37:23</td>\n",
       "      <td>56.0</td>\n",
       "      <td>2013-01-12 09:07:07</td>\n",
       "      <td>55.0</td>\n",
       "      <td>2013-01-12 09:07:09</td>\n",
       "      <td>NaN</td>\n",
       "      <td>NaT</td>\n",
       "      <td>...</td>\n",
       "      <td>NaT</td>\n",
       "      <td>NaN</td>\n",
       "      <td>NaT</td>\n",
       "      <td>NaN</td>\n",
       "      <td>NaT</td>\n",
       "      <td>NaN</td>\n",
       "      <td>NaT</td>\n",
       "      <td>NaN</td>\n",
       "      <td>NaT</td>\n",
       "      <td>0</td>\n",
       "    </tr>\n",
       "    <tr>\n",
       "      <th>77292</th>\n",
       "      <td>946</td>\n",
       "      <td>2013-01-12 08:50:13</td>\n",
       "      <td>946.0</td>\n",
       "      <td>2013-01-12 08:50:14</td>\n",
       "      <td>951.0</td>\n",
       "      <td>2013-01-12 08:50:15</td>\n",
       "      <td>946.0</td>\n",
       "      <td>2013-01-12 08:50:15</td>\n",
       "      <td>946.0</td>\n",
       "      <td>2013-01-12 08:50:16</td>\n",
       "      <td>...</td>\n",
       "      <td>2013-01-12 08:50:16</td>\n",
       "      <td>948.0</td>\n",
       "      <td>2013-01-12 08:50:16</td>\n",
       "      <td>784.0</td>\n",
       "      <td>2013-01-12 08:50:16</td>\n",
       "      <td>949.0</td>\n",
       "      <td>2013-01-12 08:50:17</td>\n",
       "      <td>946.0</td>\n",
       "      <td>2013-01-12 08:50:17</td>\n",
       "      <td>0</td>\n",
       "    </tr>\n",
       "    <tr>\n",
       "      <th>114021</th>\n",
       "      <td>945</td>\n",
       "      <td>2013-01-12 08:50:17</td>\n",
       "      <td>948.0</td>\n",
       "      <td>2013-01-12 08:50:17</td>\n",
       "      <td>949.0</td>\n",
       "      <td>2013-01-12 08:50:18</td>\n",
       "      <td>948.0</td>\n",
       "      <td>2013-01-12 08:50:18</td>\n",
       "      <td>945.0</td>\n",
       "      <td>2013-01-12 08:50:18</td>\n",
       "      <td>...</td>\n",
       "      <td>2013-01-12 08:50:18</td>\n",
       "      <td>947.0</td>\n",
       "      <td>2013-01-12 08:50:19</td>\n",
       "      <td>945.0</td>\n",
       "      <td>2013-01-12 08:50:19</td>\n",
       "      <td>946.0</td>\n",
       "      <td>2013-01-12 08:50:19</td>\n",
       "      <td>946.0</td>\n",
       "      <td>2013-01-12 08:50:20</td>\n",
       "      <td>0</td>\n",
       "    </tr>\n",
       "    <tr>\n",
       "      <th>146670</th>\n",
       "      <td>947</td>\n",
       "      <td>2013-01-12 08:50:20</td>\n",
       "      <td>950.0</td>\n",
       "      <td>2013-01-12 08:50:20</td>\n",
       "      <td>948.0</td>\n",
       "      <td>2013-01-12 08:50:20</td>\n",
       "      <td>947.0</td>\n",
       "      <td>2013-01-12 08:50:21</td>\n",
       "      <td>950.0</td>\n",
       "      <td>2013-01-12 08:50:21</td>\n",
       "      <td>...</td>\n",
       "      <td>2013-01-12 08:50:21</td>\n",
       "      <td>946.0</td>\n",
       "      <td>2013-01-12 08:50:21</td>\n",
       "      <td>951.0</td>\n",
       "      <td>2013-01-12 08:50:22</td>\n",
       "      <td>946.0</td>\n",
       "      <td>2013-01-12 08:50:22</td>\n",
       "      <td>947.0</td>\n",
       "      <td>2013-01-12 08:50:22</td>\n",
       "      <td>0</td>\n",
       "    </tr>\n",
       "  </tbody>\n",
       "</table>\n",
       "<p>5 rows × 21 columns</p>\n",
       "</div>"
      ],
      "text/plain": [
       "            site1               time1  site2               time2  site3  \\\n",
       "session_id                                                                \n",
       "21669          56 2013-01-12 08:05:57   55.0 2013-01-12 08:05:57    NaN   \n",
       "54843          56 2013-01-12 08:37:23   55.0 2013-01-12 08:37:23   56.0   \n",
       "77292         946 2013-01-12 08:50:13  946.0 2013-01-12 08:50:14  951.0   \n",
       "114021        945 2013-01-12 08:50:17  948.0 2013-01-12 08:50:17  949.0   \n",
       "146670        947 2013-01-12 08:50:20  950.0 2013-01-12 08:50:20  948.0   \n",
       "\n",
       "                         time3  site4               time4  site5  \\\n",
       "session_id                                                         \n",
       "21669                      NaT    NaN                 NaT    NaN   \n",
       "54843      2013-01-12 09:07:07   55.0 2013-01-12 09:07:09    NaN   \n",
       "77292      2013-01-12 08:50:15  946.0 2013-01-12 08:50:15  946.0   \n",
       "114021     2013-01-12 08:50:18  948.0 2013-01-12 08:50:18  945.0   \n",
       "146670     2013-01-12 08:50:20  947.0 2013-01-12 08:50:21  950.0   \n",
       "\n",
       "                         time5  ...               time6  site7  \\\n",
       "session_id                      ...                              \n",
       "21669                      NaT  ...                 NaT    NaN   \n",
       "54843                      NaT  ...                 NaT    NaN   \n",
       "77292      2013-01-12 08:50:16  ... 2013-01-12 08:50:16  948.0   \n",
       "114021     2013-01-12 08:50:18  ... 2013-01-12 08:50:18  947.0   \n",
       "146670     2013-01-12 08:50:21  ... 2013-01-12 08:50:21  946.0   \n",
       "\n",
       "                         time7  site8               time8  site9  \\\n",
       "session_id                                                         \n",
       "21669                      NaT    NaN                 NaT    NaN   \n",
       "54843                      NaT    NaN                 NaT    NaN   \n",
       "77292      2013-01-12 08:50:16  784.0 2013-01-12 08:50:16  949.0   \n",
       "114021     2013-01-12 08:50:19  945.0 2013-01-12 08:50:19  946.0   \n",
       "146670     2013-01-12 08:50:21  951.0 2013-01-12 08:50:22  946.0   \n",
       "\n",
       "                         time9 site10              time10 target  \n",
       "session_id                                                        \n",
       "21669                      NaT    NaN                 NaT      0  \n",
       "54843                      NaT    NaN                 NaT      0  \n",
       "77292      2013-01-12 08:50:17  946.0 2013-01-12 08:50:17      0  \n",
       "114021     2013-01-12 08:50:19  946.0 2013-01-12 08:50:20      0  \n",
       "146670     2013-01-12 08:50:22  947.0 2013-01-12 08:50:22      0  \n",
       "\n",
       "[5 rows x 21 columns]"
      ]
     },
     "execution_count": 9,
     "metadata": {},
     "output_type": "execute_result"
    }
   ],
   "source": [
    "train_df.head()"
   ]
  },
  {
   "cell_type": "markdown",
   "metadata": {},
   "source": [
    "**Краткая сводка по данным**"
   ]
  },
  {
   "cell_type": "code",
   "execution_count": 10,
   "metadata": {},
   "outputs": [
    {
     "name": "stdout",
     "output_type": "stream",
     "text": [
      "253561 sessions in train dataset\n",
      "82797 sessions in test dataset\n",
      "48371 unique sites over all sessions\n"
     ]
    },
    {
     "data": {
      "image/png": "[encoded data removed]",
      "text/plain": [
       "<Figure size 432x432 with 1 Axes>"
      ]
     },
     "metadata": {
      "needs_background": "light"
     },
     "output_type": "display_data"
    }
   ],
   "source": [
    "print('{} sessions in train dataset'.format(len(train_df)))\n",
    "print('{} sessions in test dataset'.format(len(test_df)))\n",
    "print('{} unique sites over all sessions'.format(len(site_dic)))\n",
    "\n",
    "fig, axes = plt.subplots(1, 1, figsize=(6, 6))\n",
    "sns.countplot(train_df.target, ax=axes)\n",
    "axes.set_title('Strongly imbalanced data')\n",
    "pass"
   ]
  },
  {
   "cell_type": "markdown",
   "metadata": {},
   "source": [
    "**Проверим сохраниться ли отношение классов при делении на обучающую и валидационную выборки**"
   ]
  },
  {
   "cell_type": "code",
   "execution_count": 11,
   "metadata": {},
   "outputs": [
    {
     "name": "stdout",
     "output_type": "stream",
     "text": [
      "train ratio 0.021 against valid ratio 0.013\n",
      "train ratio 0.017 against valid ratio 0.012\n",
      "train ratio 0.016 against valid ratio 0.005\n",
      "train ratio 0.013 against valid ratio 0.001\n",
      "train ratio 0.010 against valid ratio 0.009\n",
      "train ratio 0.010 against valid ratio 0.008\n",
      "train ratio 0.010 against valid ratio 0.001\n",
      "train ratio 0.009 against valid ratio 0.016\n",
      "train ratio 0.010 against valid ratio 0.003\n",
      "train ratio 0.009 against valid ratio 0.012\n"
     ]
    }
   ],
   "source": [
    "tscv = TimeSeriesSplit(n_splits=10)\n",
    "for train_index, valid_index in tscv.split(train_df):\n",
    "    train_ratio = (train_df.iloc[train_index, -1] == 1).sum() / (train_df.iloc[train_index, -1] == 0).sum()\n",
    "    tvalid_ratio = (train_df.iloc[valid_index, -1] == 1).sum() / (train_df.iloc[valid_index, -1] == 0).sum()\n",
    "    print('train ratio {:.3f} against valid ratio {:.3f}'.format(train_ratio, tvalid_ratio))"
   ]
  },
  {
   "cell_type": "markdown",
   "metadata": {},
   "source": [
    "**Сделаем колонки посещённых сайтов типа `int` и заполним пропуски нулями**"
   ]
  },
  {
   "cell_type": "code",
   "execution_count": 12,
   "metadata": {},
   "outputs": [],
   "source": [
    "train_df[site_columns] = train_df[site_columns].fillna(0).astype('int')\n",
    "test_df[site_columns] = test_df[site_columns].fillna(0).astype('int')"
   ]
  },
  {
   "cell_type": "markdown",
   "metadata": {},
   "source": [
    "<a id='site_freq'></a>\n",
    "**Посчитаем частоты встречаемости сайтов в сессиях**"
   ]
  },
  {
   "cell_type": "code",
   "execution_count": 13,
   "metadata": {},
   "outputs": [],
   "source": [
    "train_freq = pd.Series(train_df[site_columns].values.flatten()).value_counts()\n",
    "train_alice_freq = pd.Series(train_df[train_df.target==1][site_columns].values.flatten()).value_counts()\n",
    "test_freq = pd.Series(test_df[site_columns].values.flatten()).value_counts()\n",
    "\n",
    "site_freq = pd.DataFrame(np.zeros((len(site_dic), 5), dtype=int))\n",
    "site_freq.iloc[:, 0] = site_dic.keys()\n",
    "site_freq.index = np.array(list(site_dic.values()), dtype=int)\n",
    "site_freq.columns = ['site', 'train_count', 'test_count', \n",
    "                     'train_alice_count', 'train_noalice_count']\n",
    "\n",
    "for key, val in site_dic.items():\n",
    "    try:\n",
    "        site_freq['train_count'].loc[val] = train_freq[val]\n",
    "    except:\n",
    "        pass\n",
    "    try:\n",
    "        site_freq['train_alice_count'].loc[val] = train_alice_freq[val]\n",
    "    except:\n",
    "        pass\n",
    "    try:\n",
    "        site_freq['test_count'].loc[val] = test_freq[val]\n",
    "    except:\n",
    "        pass\n",
    "    \n",
    "site_freq['train_noalice_count'] = site_freq['train_count'] - site_freq['train_alice_count']"
   ]
  },
  {
   "cell_type": "code",
   "execution_count": 14,
   "metadata": {},
   "outputs": [
    {
     "data": {
      "text/html": [
       "<div>\n",
       "<style scoped>\n",
       "    .dataframe tbody tr th:only-of-type {\n",
       "        vertical-align: middle;\n",
       "    }\n",
       "\n",
       "    .dataframe tbody tr th {\n",
       "        vertical-align: top;\n",
       "    }\n",
       "\n",
       "    .dataframe thead th {\n",
       "        text-align: right;\n",
       "    }\n",
       "</style>\n",
       "<table border=\"1\" class=\"dataframe\">\n",
       "  <thead>\n",
       "    <tr style=\"text-align: right;\">\n",
       "      <th></th>\n",
       "      <th>site</th>\n",
       "      <th>train_count</th>\n",
       "      <th>test_count</th>\n",
       "      <th>train_alice_count</th>\n",
       "      <th>train_noalice_count</th>\n",
       "    </tr>\n",
       "  </thead>\n",
       "  <tbody>\n",
       "    <tr>\n",
       "      <th>21</th>\n",
       "      <td>www.google.fr</td>\n",
       "      <td>123776</td>\n",
       "      <td>37175</td>\n",
       "      <td>857</td>\n",
       "      <td>122919</td>\n",
       "    </tr>\n",
       "    <tr>\n",
       "      <th>23</th>\n",
       "      <td>www.google.com</td>\n",
       "      <td>87619</td>\n",
       "      <td>24243</td>\n",
       "      <td>437</td>\n",
       "      <td>87182</td>\n",
       "    </tr>\n",
       "    <tr>\n",
       "      <th>782</th>\n",
       "      <td>annotathon.org</td>\n",
       "      <td>77055</td>\n",
       "      <td>31755</td>\n",
       "      <td>0</td>\n",
       "      <td>77055</td>\n",
       "    </tr>\n",
       "    <tr>\n",
       "      <th>22</th>\n",
       "      <td>apis.google.com</td>\n",
       "      <td>58258</td>\n",
       "      <td>17655</td>\n",
       "      <td>522</td>\n",
       "      <td>57736</td>\n",
       "    </tr>\n",
       "    <tr>\n",
       "      <th>29</th>\n",
       "      <td>www.facebook.com</td>\n",
       "      <td>54094</td>\n",
       "      <td>19580</td>\n",
       "      <td>897</td>\n",
       "      <td>53197</td>\n",
       "    </tr>\n",
       "    <tr>\n",
       "      <th>167</th>\n",
       "      <td>www.bing.com</td>\n",
       "      <td>46405</td>\n",
       "      <td>15293</td>\n",
       "      <td>50</td>\n",
       "      <td>46355</td>\n",
       "    </tr>\n",
       "    <tr>\n",
       "      <th>780</th>\n",
       "      <td>blast.ncbi.nlm.nih.gov</td>\n",
       "      <td>43841</td>\n",
       "      <td>7511</td>\n",
       "      <td>0</td>\n",
       "      <td>43841</td>\n",
       "    </tr>\n",
       "    <tr>\n",
       "      <th>778</th>\n",
       "      <td>www.ncbi.nlm.nih.gov</td>\n",
       "      <td>38194</td>\n",
       "      <td>25813</td>\n",
       "      <td>0</td>\n",
       "      <td>38194</td>\n",
       "    </tr>\n",
       "    <tr>\n",
       "      <th>52</th>\n",
       "      <td>clients1.google.com</td>\n",
       "      <td>36085</td>\n",
       "      <td>10338</td>\n",
       "      <td>206</td>\n",
       "      <td>35879</td>\n",
       "    </tr>\n",
       "    <tr>\n",
       "      <th>812</th>\n",
       "      <td>mail.google.com</td>\n",
       "      <td>35178</td>\n",
       "      <td>10130</td>\n",
       "      <td>0</td>\n",
       "      <td>35178</td>\n",
       "    </tr>\n",
       "    <tr>\n",
       "      <th>80</th>\n",
       "      <td>s.youtube.com</td>\n",
       "      <td>31391</td>\n",
       "      <td>14261</td>\n",
       "      <td>1354</td>\n",
       "      <td>30037</td>\n",
       "    </tr>\n",
       "    <tr>\n",
       "      <th>570</th>\n",
       "      <td>plus.google.com</td>\n",
       "      <td>30616</td>\n",
       "      <td>7977</td>\n",
       "      <td>0</td>\n",
       "      <td>30616</td>\n",
       "    </tr>\n",
       "    <tr>\n",
       "      <th>55</th>\n",
       "      <td>safebrowsing-cache.google.com</td>\n",
       "      <td>27812</td>\n",
       "      <td>7419</td>\n",
       "      <td>0</td>\n",
       "      <td>27812</td>\n",
       "    </tr>\n",
       "    <tr>\n",
       "      <th>39</th>\n",
       "      <td>accounts.google.com</td>\n",
       "      <td>25275</td>\n",
       "      <td>7134</td>\n",
       "      <td>121</td>\n",
       "      <td>25154</td>\n",
       "    </tr>\n",
       "    <tr>\n",
       "      <th>37</th>\n",
       "      <td>twitter.com</td>\n",
       "      <td>23726</td>\n",
       "      <td>7087</td>\n",
       "      <td>293</td>\n",
       "      <td>23433</td>\n",
       "    </tr>\n",
       "  </tbody>\n",
       "</table>\n",
       "</div>"
      ],
      "text/plain": [
       "                              site  train_count  test_count  \\\n",
       "21                   www.google.fr       123776       37175   \n",
       "23                  www.google.com        87619       24243   \n",
       "782                 annotathon.org        77055       31755   \n",
       "22                 apis.google.com        58258       17655   \n",
       "29                www.facebook.com        54094       19580   \n",
       "167                   www.bing.com        46405       15293   \n",
       "780         blast.ncbi.nlm.nih.gov        43841        7511   \n",
       "778           www.ncbi.nlm.nih.gov        38194       25813   \n",
       "52             clients1.google.com        36085       10338   \n",
       "812                mail.google.com        35178       10130   \n",
       "80                   s.youtube.com        31391       14261   \n",
       "570                plus.google.com        30616        7977   \n",
       "55   safebrowsing-cache.google.com        27812        7419   \n",
       "39             accounts.google.com        25275        7134   \n",
       "37                     twitter.com        23726        7087   \n",
       "\n",
       "     train_alice_count  train_noalice_count  \n",
       "21                 857               122919  \n",
       "23                 437                87182  \n",
       "782                  0                77055  \n",
       "22                 522                57736  \n",
       "29                 897                53197  \n",
       "167                 50                46355  \n",
       "780                  0                43841  \n",
       "778                  0                38194  \n",
       "52                 206                35879  \n",
       "812                  0                35178  \n",
       "80                1354                30037  \n",
       "570                  0                30616  \n",
       "55                   0                27812  \n",
       "39                 121                25154  \n",
       "37                 293                23433  "
      ]
     },
     "execution_count": 14,
     "metadata": {},
     "output_type": "execute_result"
    }
   ],
   "source": [
    "site_freq.sort_values('train_count', ascending=False).head(15)"
   ]
  },
  {
   "cell_type": "code",
   "execution_count": 15,
   "metadata": {},
   "outputs": [
    {
     "data": {
      "text/html": [
       "<div>\n",
       "<style scoped>\n",
       "    .dataframe tbody tr th:only-of-type {\n",
       "        vertical-align: middle;\n",
       "    }\n",
       "\n",
       "    .dataframe tbody tr th {\n",
       "        vertical-align: top;\n",
       "    }\n",
       "\n",
       "    .dataframe thead th {\n",
       "        text-align: right;\n",
       "    }\n",
       "</style>\n",
       "<table border=\"1\" class=\"dataframe\">\n",
       "  <thead>\n",
       "    <tr style=\"text-align: right;\">\n",
       "      <th></th>\n",
       "      <th>site</th>\n",
       "      <th>train_count</th>\n",
       "      <th>test_count</th>\n",
       "      <th>train_alice_count</th>\n",
       "      <th>train_noalice_count</th>\n",
       "    </tr>\n",
       "  </thead>\n",
       "  <tbody>\n",
       "    <tr>\n",
       "      <th>21</th>\n",
       "      <td>www.google.fr</td>\n",
       "      <td>123776</td>\n",
       "      <td>37175</td>\n",
       "      <td>857</td>\n",
       "      <td>122919</td>\n",
       "    </tr>\n",
       "    <tr>\n",
       "      <th>782</th>\n",
       "      <td>annotathon.org</td>\n",
       "      <td>77055</td>\n",
       "      <td>31755</td>\n",
       "      <td>0</td>\n",
       "      <td>77055</td>\n",
       "    </tr>\n",
       "    <tr>\n",
       "      <th>778</th>\n",
       "      <td>www.ncbi.nlm.nih.gov</td>\n",
       "      <td>38194</td>\n",
       "      <td>25813</td>\n",
       "      <td>0</td>\n",
       "      <td>38194</td>\n",
       "    </tr>\n",
       "    <tr>\n",
       "      <th>23</th>\n",
       "      <td>www.google.com</td>\n",
       "      <td>87619</td>\n",
       "      <td>24243</td>\n",
       "      <td>437</td>\n",
       "      <td>87182</td>\n",
       "    </tr>\n",
       "    <tr>\n",
       "      <th>1202</th>\n",
       "      <td>claroline.univ-bpclermont.fr</td>\n",
       "      <td>1677</td>\n",
       "      <td>20413</td>\n",
       "      <td>0</td>\n",
       "      <td>1677</td>\n",
       "    </tr>\n",
       "    <tr>\n",
       "      <th>29</th>\n",
       "      <td>www.facebook.com</td>\n",
       "      <td>54094</td>\n",
       "      <td>19580</td>\n",
       "      <td>897</td>\n",
       "      <td>53197</td>\n",
       "    </tr>\n",
       "    <tr>\n",
       "      <th>22</th>\n",
       "      <td>apis.google.com</td>\n",
       "      <td>58258</td>\n",
       "      <td>17655</td>\n",
       "      <td>522</td>\n",
       "      <td>57736</td>\n",
       "    </tr>\n",
       "    <tr>\n",
       "      <th>167</th>\n",
       "      <td>www.bing.com</td>\n",
       "      <td>46405</td>\n",
       "      <td>15293</td>\n",
       "      <td>50</td>\n",
       "      <td>46355</td>\n",
       "    </tr>\n",
       "    <tr>\n",
       "      <th>80</th>\n",
       "      <td>s.youtube.com</td>\n",
       "      <td>31391</td>\n",
       "      <td>14261</td>\n",
       "      <td>1354</td>\n",
       "      <td>30037</td>\n",
       "    </tr>\n",
       "    <tr>\n",
       "      <th>302</th>\n",
       "      <td>ent.univ-bpclermont.fr</td>\n",
       "      <td>3656</td>\n",
       "      <td>11100</td>\n",
       "      <td>0</td>\n",
       "      <td>3656</td>\n",
       "    </tr>\n",
       "    <tr>\n",
       "      <th>52</th>\n",
       "      <td>clients1.google.com</td>\n",
       "      <td>36085</td>\n",
       "      <td>10338</td>\n",
       "      <td>206</td>\n",
       "      <td>35879</td>\n",
       "    </tr>\n",
       "    <tr>\n",
       "      <th>786</th>\n",
       "      <td>www.phylogeny.fr</td>\n",
       "      <td>23026</td>\n",
       "      <td>10171</td>\n",
       "      <td>0</td>\n",
       "      <td>23026</td>\n",
       "    </tr>\n",
       "    <tr>\n",
       "      <th>812</th>\n",
       "      <td>mail.google.com</td>\n",
       "      <td>35178</td>\n",
       "      <td>10130</td>\n",
       "      <td>0</td>\n",
       "      <td>35178</td>\n",
       "    </tr>\n",
       "    <tr>\n",
       "      <th>570</th>\n",
       "      <td>plus.google.com</td>\n",
       "      <td>30616</td>\n",
       "      <td>7977</td>\n",
       "      <td>0</td>\n",
       "      <td>30616</td>\n",
       "    </tr>\n",
       "    <tr>\n",
       "      <th>300</th>\n",
       "      <td>www.univ-bpclermont.fr</td>\n",
       "      <td>3104</td>\n",
       "      <td>7968</td>\n",
       "      <td>0</td>\n",
       "      <td>3104</td>\n",
       "    </tr>\n",
       "  </tbody>\n",
       "</table>\n",
       "</div>"
      ],
      "text/plain": [
       "                              site  train_count  test_count  \\\n",
       "21                   www.google.fr       123776       37175   \n",
       "782                 annotathon.org        77055       31755   \n",
       "778           www.ncbi.nlm.nih.gov        38194       25813   \n",
       "23                  www.google.com        87619       24243   \n",
       "1202  claroline.univ-bpclermont.fr         1677       20413   \n",
       "29                www.facebook.com        54094       19580   \n",
       "22                 apis.google.com        58258       17655   \n",
       "167                   www.bing.com        46405       15293   \n",
       "80                   s.youtube.com        31391       14261   \n",
       "302         ent.univ-bpclermont.fr         3656       11100   \n",
       "52             clients1.google.com        36085       10338   \n",
       "786               www.phylogeny.fr        23026       10171   \n",
       "812                mail.google.com        35178       10130   \n",
       "570                plus.google.com        30616        7977   \n",
       "300         www.univ-bpclermont.fr         3104        7968   \n",
       "\n",
       "      train_alice_count  train_noalice_count  \n",
       "21                  857               122919  \n",
       "782                   0                77055  \n",
       "778                   0                38194  \n",
       "23                  437                87182  \n",
       "1202                  0                 1677  \n",
       "29                  897                53197  \n",
       "22                  522                57736  \n",
       "167                  50                46355  \n",
       "80                 1354                30037  \n",
       "302                   0                 3656  \n",
       "52                  206                35879  \n",
       "786                   0                23026  \n",
       "812                   0                35178  \n",
       "570                   0                30616  \n",
       "300                   0                 3104  "
      ]
     },
     "execution_count": 15,
     "metadata": {},
     "output_type": "execute_result"
    }
   ],
   "source": [
    "site_freq.sort_values('test_count', ascending=False).head(15)"
   ]
  },
  {
   "cell_type": "markdown",
   "metadata": {},
   "source": [
    "**Видно, что рейтинг встречаемости сайтов в тренировочной и тестовой хоть и достаточно близки но различаются**"
   ]
  },
  {
   "cell_type": "markdown",
   "metadata": {},
   "source": [
    "**Также можно отметить, что только половина самых популярных сайтов посещалось самой Alice. Этот факт стоит учесть при составлении дополнительных признаков.**"
   ]
  },
  {
   "cell_type": "markdown",
   "metadata": {},
   "source": [
    "# Генерация пространства признаков"
   ]
  },
  {
   "cell_type": "markdown",
   "metadata": {},
   "source": [
    "**Данная глава делится на несколько подразделов:**\n",
    "* [Формирование основного пространства признаков](#Преобразование-последовательностей-посещённых-сайтов)\n",
    "* [Формирование дополнительных временных признаков](#Формирование-временных-признаков)\n",
    "* [Формирование дополнительных признаков, основанных на особенностях последовательности посещений сайтов](#Формирование-признаков-основанных-на-последовательностях-сайтов)\n",
    "* [Итоговый анализ сформированных признаков](#Общий-анализ-признаков)"
   ]
  },
  {
   "cell_type": "markdown",
   "metadata": {},
   "source": [
    "## Преобразование последовательностей посещённых сайтов"
   ]
  },
  {
   "cell_type": "markdown",
   "metadata": {},
   "source": [
    "**Для начала отметим, что сайты сессии являются категориальными признаками, поэтому преобразуем пространство с применением концепции bag-of-words. Тогда можем преобразовать последовательности сайтов сессии с помощью CountVectorizer**\n",
    "\n",
    "**Для этого переведём данные в подходящий для CountVectorizer вид**"
   ]
  },
  {
   "cell_type": "code",
   "execution_count": 16,
   "metadata": {},
   "outputs": [],
   "source": [
    "train_df[site_columns].to_csv('train_sessions_text.txt', \n",
    "                              sep=' ', index=None, header=None)\n",
    "test_df[site_columns].to_csv('test_sessions_text.txt', \n",
    "                             sep=' ', index=None, header=None)"
   ]
  },
  {
   "cell_type": "code",
   "execution_count": 17,
   "metadata": {},
   "outputs": [
    {
     "name": "stdout",
     "output_type": "stream",
     "text": [
      "56 55 0 0 0 0 0 0 0 0\r\n",
      "56 55 56 55 0 0 0 0 0 0\r\n",
      "946 946 951 946 946 945 948 784 949 946\r\n",
      "945 948 949 948 945 946 947 945 946 946\r\n",
      "947 950 948 947 950 952 946 951 946 947\r\n"
     ]
    }
   ],
   "source": [
    "!head -5 train_sessions_text.txt"
   ]
  },
  {
   "cell_type": "markdown",
   "metadata": {},
   "source": [
    "**Далее попробуем подобрать параметры CountVectorizer таким образом, чтобы получить максимальный roc-auc на кросс валидации**"
   ]
  },
  {
   "cell_type": "code",
   "execution_count": 18,
   "metadata": {},
   "outputs": [],
   "source": [
    "def vect_cross_val_score(cv, df, max_ngrams, max_features):\n",
    "    nsplits = 0\n",
    "    y_train_splits = []\n",
    "    y_valid_splits = []\n",
    "    for train_index, valid_index in cv.split(train_df):\n",
    "        X_train = train_df.iloc[train_index, :-1]\n",
    "        y_train = train_df.iloc[train_index, -1]\n",
    "        X_valid = train_df.iloc[valid_index, :-1]\n",
    "        y_valid = train_df.iloc[valid_index, -1]\n",
    "\n",
    "        X_train[site_columns].to_csv('ts_cut_{}.txt'.format(nsplits), \n",
    "                                     sep=' ', index=None, header=None)\n",
    "        y_train_splits.append(y_train)\n",
    "        X_valid[site_columns].to_csv('vs_cut_{}.txt'.format(nsplits), \n",
    "                                     sep=' ', index=None, header=None)\n",
    "        y_valid_splits.append(y_valid)\n",
    "        nsplits += 1\n",
    "    for ng in range(1, max_ngrams + 1):\n",
    "        for mf in max_features:\n",
    "            count_vect = CountVectorizer(ngram_range=(1, ng), max_features=mf)\n",
    "            tfidf_vect = TfidfVectorizer(ngram_range=(1, ng), max_features=mf)\n",
    "            \n",
    "            score_count = []\n",
    "            score_tfidf = []\n",
    "            for i in range(nsplits):\n",
    "                logit = LogisticRegression()\n",
    "\n",
    "                with open('ts_cut_{}.txt'.format(i)) as inp_train_file:\n",
    "                    X_train_count = count_vect.fit_transform(inp_train_file)\n",
    "                with open('vs_cut_{}.txt'.format(i)) as inp_test_file:\n",
    "                    X_valid_count = count_vect.transform(inp_test_file)\n",
    "                with open('ts_cut_{}.txt'.format(i)) as inp_train_file:\n",
    "                    X_train_tfidf = tfidf_vect.fit_transform(inp_train_file)\n",
    "                with open('vs_cut_{}.txt'.format(i)) as inp_test_file:\n",
    "                    X_valid_tfidf = tfidf_vect.transform(inp_test_file)\n",
    "                    \n",
    "                logit.fit(X_train_count, y_train_splits[i])\n",
    "                y_prob = logit.predict_proba(X_valid_count)\n",
    "                score_count.append(roc_auc_score(y_valid_splits[i], y_prob[:, 1])) \n",
    "                \n",
    "                logit.fit(X_train_tfidf, y_train_splits[i])\n",
    "                y_prob = logit.predict_proba(X_valid_tfidf)\n",
    "                score_tfidf.append(roc_auc_score(y_valid_splits[i], y_prob[:, 1])) \n",
    "                \n",
    "            print('CountVectorizer with ngrams=(1, {}) and max_features={} has mean score is {:.4f}'.format(ng, mf, np.mean(score_count)))\n",
    "            print('TfidfVectorizer with ngrams=(1, {}) and max_features={} has mean score is {:.4f}'.format(ng, mf, np.mean(score_tfidf)))"
   ]
  },
  {
   "cell_type": "code",
   "execution_count": 35,
   "metadata": {},
   "outputs": [
    {
     "name": "stdout",
     "output_type": "stream",
     "text": [
      "CountVectorizer with ngrams=(1, 1) and max_features=50000 has mean score is 0.8648\n",
      "TfidfVectorizer with ngrams=(1, 1) and max_features=50000 has mean score is 0.8638\n",
      "CountVectorizer with ngrams=(1, 1) and max_features=75000 has mean score is 0.8648\n",
      "TfidfVectorizer with ngrams=(1, 1) and max_features=75000 has mean score is 0.8638\n",
      "CountVectorizer with ngrams=(1, 2) and max_features=50000 has mean score is 0.8705\n",
      "TfidfVectorizer with ngrams=(1, 2) and max_features=50000 has mean score is 0.8654\n",
      "CountVectorizer with ngrams=(1, 2) and max_features=75000 has mean score is 0.8698\n",
      "TfidfVectorizer with ngrams=(1, 2) and max_features=75000 has mean score is 0.8649\n",
      "CountVectorizer with ngrams=(1, 3) and max_features=50000 has mean score is 0.8690\n",
      "TfidfVectorizer with ngrams=(1, 3) and max_features=50000 has mean score is 0.8651\n",
      "CountVectorizer with ngrams=(1, 3) and max_features=75000 has mean score is 0.8702\n",
      "TfidfVectorizer with ngrams=(1, 3) and max_features=75000 has mean score is 0.8650\n",
      "CountVectorizer with ngrams=(1, 4) and max_features=50000 has mean score is 0.8685\n",
      "TfidfVectorizer with ngrams=(1, 4) and max_features=50000 has mean score is 0.8654\n",
      "CountVectorizer with ngrams=(1, 4) and max_features=75000 has mean score is 0.8704\n",
      "TfidfVectorizer with ngrams=(1, 4) and max_features=75000 has mean score is 0.8644\n",
      "CountVectorizer with ngrams=(1, 5) and max_features=50000 has mean score is 0.8676\n",
      "TfidfVectorizer with ngrams=(1, 5) and max_features=50000 has mean score is 0.8649\n",
      "CountVectorizer with ngrams=(1, 5) and max_features=75000 has mean score is 0.8688\n",
      "TfidfVectorizer with ngrams=(1, 5) and max_features=75000 has mean score is 0.8648\n"
     ]
    }
   ],
   "source": [
    "tscv = TimeSeriesSplit(n_splits=10)\n",
    "vect_cross_val_score(tscv, train_df, 5, [50000, 75000])"
   ]
  },
  {
   "cell_type": "markdown",
   "metadata": {},
   "source": [
    "**Качество для параметров ngrams_range = (1, 2), (1, 3) и (1, 4) оказалось достаточно близко, но по предыдущему опыту и подсказкам с kaggle принимаем CountVectorizer(ngrams_range=(1, 3), max_features=50000)**"
   ]
  },
  {
   "cell_type": "code",
   "execution_count": 19,
   "metadata": {},
   "outputs": [
    {
     "name": "stdout",
     "output_type": "stream",
     "text": [
      "CPU times: user 7.42 s, sys: 104 ms, total: 7.53 s\n",
      "Wall time: 7.53 s\n"
     ]
    },
    {
     "data": {
      "text/plain": [
       "((253561, 50000), (82797, 50000))"
      ]
     },
     "execution_count": 19,
     "metadata": {},
     "output_type": "execute_result"
    }
   ],
   "source": [
    "%%time\n",
    "cv = CountVectorizer(ngram_range=(1, 3), max_features=50000)\n",
    "with open('train_sessions_text.txt') as inp_train_file:\n",
    "    X_train_full = cv.fit_transform(inp_train_file)\n",
    "with open('test_sessions_text.txt') as inp_test_file:\n",
    "    X_test = cv.transform(inp_test_file)\n",
    "X_train_full.shape, X_test.shape"
   ]
  },
  {
   "cell_type": "markdown",
   "metadata": {},
   "source": [
    "**Также запишем отдельно вектор целевой переменной**"
   ]
  },
  {
   "cell_type": "code",
   "execution_count": 20,
   "metadata": {},
   "outputs": [],
   "source": [
    "y_train_full = train_df.target.astype('int')"
   ]
  },
  {
   "cell_type": "markdown",
   "metadata": {},
   "source": [
    "## Формирование временных признаков"
   ]
  },
  {
   "cell_type": "markdown",
   "metadata": {},
   "source": [
    "**В этой части будут проанализрованы признаки, временных характеристиках сессии**"
   ]
  },
  {
   "cell_type": "markdown",
   "metadata": {},
   "source": [
    "**Добавим в исходные данные время посещения каждого сайта в сессии**"
   ]
  },
  {
   "cell_type": "code",
   "execution_count": 21,
   "metadata": {},
   "outputs": [
    {
     "name": "stdout",
     "output_type": "stream",
     "text": [
      "CPU times: user 18.8 s, sys: 7.24 ms, total: 18.8 s\n",
      "Wall time: 18.8 s\n"
     ]
    }
   ],
   "source": [
    "%%time\n",
    "for i in range(1, len(time_columns)):\n",
    "    col1 = time_columns[i - 1]\n",
    "    col2 = time_columns[i]\n",
    "    \n",
    "    dt = (train_df[col2] - train_df[col1]).apply(lambda x: x.total_seconds()).fillna(0).astype('int').to_numpy()\n",
    "    train_df['time_diff{}'.format(i)] = dt\n",
    "    \n",
    "    dt = (test_df[col2] - test_df[col1]).apply(lambda x: x.total_seconds()).fillna(0).astype('int').to_numpy()\n",
    "    test_df['time_diff{}'.format(i)] = dt\n",
    "    \n",
    "time_diff_columns = ['time_diff{}'.format(i) for i in range(1, 10)]"
   ]
  },
  {
   "cell_type": "markdown",
   "metadata": {},
   "source": [
    "**Обратим внимание на признаки:**\n",
    "* день недели начала сессии\n",
    "* час начала сессии"
   ]
  },
  {
   "cell_type": "code",
   "execution_count": 22,
   "metadata": {},
   "outputs": [],
   "source": [
    "def calc_week_day(df):\n",
    "    ext_feature = df['time1'].apply(lambda x: x.dayofweek).to_numpy()\n",
    "    \n",
    "    return ext_feature\n",
    "\n",
    "def calc_start_hour(df):\n",
    "    ext_feature = df['time1'].apply(lambda x: x.hour).to_numpy()\n",
    "    \n",
    "    return ext_feature"
   ]
  },
  {
   "cell_type": "code",
   "execution_count": 23,
   "metadata": {},
   "outputs": [
    {
     "name": "stdout",
     "output_type": "stream",
     "text": [
      "day of week\n"
     ]
    },
    {
     "data": {
      "image/png": "[encoded data removed]",
      "text/plain": [
       "<Figure size 1152x576 with 4 Axes>"
      ]
     },
     "metadata": {
      "needs_background": "light"
     },
     "output_type": "display_data"
    }
   ],
   "source": [
    "print('day of week')\n",
    "train_day_of_week = calc_week_day(train_df)\n",
    "test_day_of_week = calc_week_day(test_df)\n",
    "plot_feature(train_day_of_week, test_day_of_week, y_train_full, bins=7);"
   ]
  },
  {
   "cell_type": "markdown",
   "metadata": {},
   "source": [
    "**Видно, что поведение целевого пользователя существенно отличается от остальных. Тем не менее, распределение данного признака на обучении и тесте тоже различно, поэтому следует применять этот признак с осторожностью.**"
   ]
  },
  {
   "cell_type": "code",
   "execution_count": 48,
   "metadata": {},
   "outputs": [],
   "source": [
    "def form_day_of_week_feature(df):\n",
    "    day_of_week = calc_week_day(df)\n",
    "    \n",
    "    ext_feature = np.zeros((len(day_of_week), 8), dtype=int)\n",
    "    \n",
    "    for t in np.unique(day_of_week):\n",
    "        ext_feature[:, t] = (day_of_week == t)\n",
    "        \n",
    "    ext_feature[:, 7] += day_of_week == 0\n",
    "    ext_feature[:, 7] += day_of_week == 1\n",
    "    ext_feature[:, 7] += day_of_week == 3\n",
    "    ext_feature[:, 7] += day_of_week == 4\n",
    "    feature = pd.DataFrame(ext_feature, dtype=int)\n",
    "    feature.columns = ['Mon', 'Tue', 'Wed', 'Thu', 'Fri', 'Sat', 'Sun', 'alice_day_of_week']\n",
    "    \n",
    "    return feature.astype('int')"
   ]
  },
  {
   "cell_type": "code",
   "execution_count": 25,
   "metadata": {},
   "outputs": [
    {
     "name": "stdout",
     "output_type": "stream",
     "text": [
      "session start hour\n"
     ]
    },
    {
     "data": {
      "image/png": "[encoded data removed]",
      "text/plain": [
       "<Figure size 1152x576 with 4 Axes>"
      ]
     },
     "metadata": {
      "needs_background": "light"
     },
     "output_type": "display_data"
    }
   ],
   "source": [
    "print('session start hour')\n",
    "train_start = calc_start_hour(train_df)\n",
    "test_start = calc_start_hour(test_df)\n",
    "plot_feature(train_start, test_start, y_train_full);"
   ]
  },
  {
   "cell_type": "markdown",
   "metadata": {},
   "source": [
    "**Распределения на обучающей и тестовой выборке схожи и почедение Alice заметно отличается от большинства. Для формирования признака разделим день на 4 части [8, 11], [12, 18], [18, 21] и остальные**"
   ]
  },
  {
   "cell_type": "code",
   "execution_count": 26,
   "metadata": {},
   "outputs": [],
   "source": [
    "def form_start_hour_feature(df):\n",
    "    start_hour = calc_start_hour(df)\n",
    "    \n",
    "    ext_feature = np.zeros((len(start_hour), 5), dtype=int)\n",
    "\n",
    "    ext_feature[:, 0] = np.logical_and(start_hour < 8, start_hour > 21)\n",
    "    ext_feature[:, 1] = np.logical_and(start_hour >= 8, start_hour <= 11)\n",
    "    ext_feature[:, 2] = np.logical_and(start_hour >= 12, start_hour <= 18)\n",
    "    ext_feature[:, 3] = np.logical_and(start_hour >= 18, start_hour <= 21)\n",
    "\n",
    "    ext_feature[:, 4] += np.logical_and(start_hour >= 12, start_hour <= 13)\n",
    "    ext_feature[:, 4] += np.logical_and(start_hour >= 15, start_hour <= 18)\n",
    "    ext_feature[:, 4] += start_hour == 9\n",
    "        \n",
    "    feature = pd.DataFrame(ext_feature)\n",
    "    feature.columns = ['night', 'morning', 'day', 'evening', 'alice_time']\n",
    "    \n",
    "    return feature"
   ]
  },
  {
   "cell_type": "markdown",
   "metadata": {},
   "source": [
    "**Также из временных признаков были проанализированы продолжительности сессий. Но найти характерного отличия Alice от остальных пользователей найти не удалось. Тем не менее, это является весьма очевидным признаком, поэтому попробуем посмотреть на изменение качества, при введение этого признака.**"
   ]
  },
  {
   "cell_type": "code",
   "execution_count": 27,
   "metadata": {},
   "outputs": [],
   "source": [
    "def form_session_duration_feature(df):\n",
    "    duration = np.zeros((len(df),), dtype=int)\n",
    "    duration = (df[time_columns].max(axis=1) - df[time_columns].min(axis=1)).apply(lambda x: x.total_seconds()).to_numpy()\n",
    "    \n",
    "    ext_feature = np.zeros((len(duration), 1))\n",
    "    \n",
    "    ext_feature[:, 0] = duration\n",
    "    \n",
    "    feature = pd.DataFrame(ext_feature)\n",
    "    feature.columns = ['session duration']\n",
    "    \n",
    "    return feature"
   ]
  },
  {
   "cell_type": "code",
   "execution_count": 28,
   "metadata": {},
   "outputs": [],
   "source": [
    "def form_mean_duration_feature(df):\n",
    "    duration = np.zeros((len(df),), dtype=int)\n",
    "    duration = df[time_diff_columns].mean(axis=1).to_numpy()\n",
    "    \n",
    "    ext_feature = np.zeros((len(duration), 1))\n",
    "    \n",
    "    ext_feature[:, 0] = duration\n",
    "    \n",
    "    feature = pd.DataFrame(ext_feature)\n",
    "    feature.columns = ['mean duration']\n",
    "    \n",
    "    return feature"
   ]
  },
  {
   "cell_type": "markdown",
   "metadata": {},
   "source": [
    "**Также обратившись к таблице можем заметить, что Alice любит посмотреть youtube, поэтому можем проанализировать признак \"длительность посещения youtube в минутах\"**"
   ]
  },
  {
   "cell_type": "code",
   "execution_count": 29,
   "metadata": {},
   "outputs": [],
   "source": [
    "def calc_youtube_duration(df):\n",
    "    duration = np.zeros((len(df),), dtype=int)\n",
    "    \n",
    "    sites = df[site_columns].to_numpy()\n",
    "    dtimes = df[time_diff_columns].to_numpy()\n",
    "    youtube_idxs = [site_dic[key] for key in site_dic.keys() if key.find('youtube') > -1]\n",
    "    \n",
    "    for idx in youtube_idxs:\n",
    "        for i in range(9):\n",
    "            indices = sites[:, i] == idx\n",
    "            duration[indices] += np.array(list(map(lambda x: int(np.round(x)), (dtimes[indices, i] / 60))), dtype=int)\n",
    "    \n",
    "    return duration"
   ]
  },
  {
   "cell_type": "code",
   "execution_count": 30,
   "metadata": {},
   "outputs": [
    {
     "name": "stdout",
     "output_type": "stream",
     "text": [
      "youtube duration per session in minutes\n"
     ]
    },
    {
     "data": {
      "image/png": "[encoded data removed]",
      "text/plain": [
       "<Figure size 1152x576 with 4 Axes>"
      ]
     },
     "metadata": {
      "needs_background": "light"
     },
     "output_type": "display_data"
    }
   ],
   "source": [
    "print('youtube duration per session in minutes')\n",
    "train_duration = calc_youtube_duration(train_df)\n",
    "test_duration = calc_youtube_duration(test_df)\n",
    "train_indices = train_duration > 0\n",
    "test_indices = test_duration > 0\n",
    "plot_feature(train_duration[train_indices], test_duration[test_indices], y_train_full[train_indices], bins=29);"
   ]
  },
  {
   "cell_type": "markdown",
   "metadata": {},
   "source": [
    "**Видно, что продолжительность посещений youtube целевым пользователем не привышает 10 минут. Тогда можем ввести ещё 1 временной признак:**"
   ]
  },
  {
   "cell_type": "code",
   "execution_count": 31,
   "metadata": {},
   "outputs": [],
   "source": [
    "def form_youtube_duration_feature(df):\n",
    "    duration = calc_youtube_duration(df)\n",
    "    \n",
    "    ext_feature = np.zeros((len(duration), 1))\n",
    "    \n",
    "    ext_feature[:, 0] = duration\n",
    "    \n",
    "    feature = pd.DataFrame(ext_feature)\n",
    "    feature.columns = ['youtube duration']\n",
    "    \n",
    "    return feature"
   ]
  },
  {
   "cell_type": "markdown",
   "metadata": {},
   "source": [
    "## Формирование признаков основанных на последовательностях сайтов"
   ]
  },
  {
   "cell_type": "markdown",
   "metadata": {},
   "source": [
    "**В данной части будут рассмотрены признаки, основанные на характеристиках сессий, связанных с последовательностью посещённых сайтов (безотносительно ко времени посещения)**"
   ]
  },
  {
   "cell_type": "markdown",
   "metadata": {},
   "source": [
    "**Посмотрим на количество уникальных сайтов в сессии**"
   ]
  },
  {
   "cell_type": "code",
   "execution_count": 30,
   "metadata": {},
   "outputs": [],
   "source": [
    "def calc_unique(df):\n",
    "    ext_feature = df[site_columns].nunique(axis=1)\n",
    "\n",
    "    return ext_feature"
   ]
  },
  {
   "cell_type": "code",
   "execution_count": 31,
   "metadata": {},
   "outputs": [
    {
     "name": "stdout",
     "output_type": "stream",
     "text": [
      "unique sites\n"
     ]
    },
    {
     "data": {
      "image/png": "[encoded data removed]",
      "text/plain": [
       "<Figure size 1152x576 with 4 Axes>"
      ]
     },
     "metadata": {
      "needs_background": "light"
     },
     "output_type": "display_data"
    }
   ],
   "source": [
    "print('unique sites')\n",
    "train_unique = calc_unique(train_df)\n",
    "test_unique = calc_unique(test_df)\n",
    "plot_feature(train_unique, test_unique, y_train_full, bins=10);"
   ]
  },
  {
   "cell_type": "markdown",
   "metadata": {},
   "source": [
    "**Визуально распределение тестовой выборки отличается от тренировочной больше, чем распределение Alice от остальных полльзователей. Не берём этот признак в расчёт.**"
   ]
  },
  {
   "cell_type": "markdown",
   "metadata": {},
   "source": [
    "**Рассмотрим количества в сессии сайтов из топ-30**"
   ]
  },
  {
   "cell_type": "code",
   "execution_count": 32,
   "metadata": {},
   "outputs": [],
   "source": [
    "def calc_top_count(df, top=10, column='train_count'):\n",
    "    top_ids = list(site_freq.sort_values(column, ascending=False).index[:top])\n",
    "    ext_feature = np.zeros((len(df), ))\n",
    "    \n",
    "    for site_id in top_ids:\n",
    "        ext_feature += df[site_columns].apply(lambda x: x==site_id).sum(axis=1)\n",
    "\n",
    "    return ext_feature"
   ]
  },
  {
   "cell_type": "code",
   "execution_count": 33,
   "metadata": {},
   "outputs": [
    {
     "name": "stdout",
     "output_type": "stream",
     "text": [
      "count top 30 sites\n"
     ]
    },
    {
     "data": {
      "image/png": "[encoded data removed]",
      "text/plain": [
       "<Figure size 1152x576 with 4 Axes>"
      ]
     },
     "metadata": {
      "needs_background": "light"
     },
     "output_type": "display_data"
    }
   ],
   "source": [
    "print('count top 30 sites')\n",
    "train_top30 = calc_top_count(train_df, top=30)\n",
    "test_top30 = calc_top_count(test_df, top=30)\n",
    "plot_feature(train_top30, test_top30, y_train_full);"
   ]
  },
  {
   "cell_type": "markdown",
   "metadata": {},
   "source": [
    "**Видим, что распределения не тенировочном и тестовом датасетах совпадают, при этом распределение Alice несколько отличается от остальных пользователей.**\n",
    "\n",
    "**Тем не менее, видим, что лучше брать топ посещённых именно Alice сайтов. Причём лучше брать побольше сайтов**"
   ]
  },
  {
   "cell_type": "code",
   "execution_count": 34,
   "metadata": {},
   "outputs": [
    {
     "name": "stdout",
     "output_type": "stream",
     "text": [
      "count top 100 Alice sites\n"
     ]
    },
    {
     "data": {
      "image/png": "[encoded data removed]",
      "text/plain": [
       "<Figure size 1152x576 with 4 Axes>"
      ]
     },
     "metadata": {
      "needs_background": "light"
     },
     "output_type": "display_data"
    }
   ],
   "source": [
    "print('count top 100 Alice sites')\n",
    "train_top30 = calc_top_count(train_df, top=100, column='train_alice_count')\n",
    "test_top30 = calc_top_count(test_df, top=100, column='train_alice_count')\n",
    "plot_feature(train_top30, test_top30, y_train_full);"
   ]
  },
  {
   "cell_type": "code",
   "execution_count": 35,
   "metadata": {},
   "outputs": [],
   "source": [
    "def form_top100_feature(df):\n",
    "    top_count = calc_top_count(df, top=100, column='train_alice_count')\n",
    "    \n",
    "    ext_feature = np.zeros((len(top_count), 1))\n",
    "    ext_feature[:, 0] = top_count\n",
    "    \n",
    "    feature = pd.DataFrame(ext_feature)\n",
    "    feature.columns = ['top100']\n",
    "    return feature"
   ]
  },
  {
   "cell_type": "markdown",
   "metadata": {},
   "source": [
    "**При исследовании [списка самых посещаемых сайтов](#site_freq) было отмечено, что существенная часть сайтов из топа рейтига не посещалась Alice вовсе. Исходя из этого можно сформировать признак, учитывающий данный факт.**"
   ]
  },
  {
   "cell_type": "code",
   "execution_count": 36,
   "metadata": {},
   "outputs": [],
   "source": [
    "def calc_top_worst_visit(df, top=10):\n",
    "    top_site_freq = site_freq.sort_values('train_count', ascending=False).iloc[:top, :]\n",
    "    worst_ids = list(top_site_freq.sort_values('train_alice_count', ascending=True).index[:int(top / 2)])\n",
    "    ext_feature = np.zeros((len(df), ))\n",
    "    \n",
    "    for site_id in worst_ids:\n",
    "        ext_feature += df[site_columns].apply(lambda x: x==site_id).sum(axis=1)\n",
    "\n",
    "    return np.array(ext_feature > 0, dtype=int)"
   ]
  },
  {
   "cell_type": "code",
   "execution_count": 37,
   "metadata": {},
   "outputs": [
    {
     "name": "stdout",
     "output_type": "stream",
     "text": [
      "count 100 worst for Alice sites\n"
     ]
    },
    {
     "data": {
      "image/png": "[encoded data removed]",
      "text/plain": [
       "<Figure size 1152x576 with 4 Axes>"
      ]
     },
     "metadata": {
      "needs_background": "light"
     },
     "output_type": "display_data"
    }
   ],
   "source": [
    "print('count 100 worst for Alice sites')\n",
    "train_worst100 = calc_top_worst_visit(train_df, top=200)\n",
    "test_worst100 = calc_top_worst_visit(test_df, top=200)\n",
    "plot_feature(train_worst100, test_worst100, y_train_full);"
   ]
  },
  {
   "cell_type": "markdown",
   "metadata": {},
   "source": [
    "**Возьмём этот признак на вооружение**"
   ]
  },
  {
   "cell_type": "code",
   "execution_count": 38,
   "metadata": {},
   "outputs": [],
   "source": [
    "def form_worst100_feature(df):\n",
    "    ext_feature = calc_top_worst_visit(df, top=200)\n",
    "    \n",
    "    feature = pd.DataFrame(ext_feature)\n",
    "    feature.columns = ['worst 100 of top 200']\n",
    "    \n",
    "    return feature"
   ]
  },
  {
   "cell_type": "markdown",
   "metadata": {},
   "source": [
    "**Также попробуем посмотреть на частоты посещений отдельных сайтов (таких как facebook и twitter)**"
   ]
  },
  {
   "cell_type": "code",
   "execution_count": 39,
   "metadata": {},
   "outputs": [],
   "source": [
    "def calc_facebook_count(df):\n",
    "    counter = np.zeros((len(df),), dtype=int)\n",
    "    \n",
    "    sites = df[site_columns].to_numpy()\n",
    "    facebook_idxs = [site_dic[key] for key in site_dic.keys() if key.find('facebook') > -1]\n",
    "    \n",
    "    for idx in facebook_idxs:\n",
    "        for i in range(9):\n",
    "            indices = sites[:, i] == idx\n",
    "            counter[indices] += 1\n",
    "    \n",
    "    return counter"
   ]
  },
  {
   "cell_type": "code",
   "execution_count": 40,
   "metadata": {},
   "outputs": [
    {
     "name": "stdout",
     "output_type": "stream",
     "text": [
      "facebook visits per session\n"
     ]
    },
    {
     "data": {
      "image/png": "[encoded data removed]",
      "text/plain": [
       "<Figure size 1152x576 with 4 Axes>"
      ]
     },
     "metadata": {
      "needs_background": "light"
     },
     "output_type": "display_data"
    }
   ],
   "source": [
    "print('facebook visits per session')\n",
    "train_facebook = calc_facebook_count(train_df)\n",
    "test_facebook = calc_facebook_count(test_df)\n",
    "plot_feature(train_facebook, test_facebook, y_train_full, bins=10);"
   ]
  },
  {
   "cell_type": "code",
   "execution_count": 41,
   "metadata": {},
   "outputs": [],
   "source": [
    "def calc_twitter_count(df):\n",
    "    counter = np.zeros((len(df),), dtype=int)\n",
    "    \n",
    "    sites = df[site_columns].to_numpy()\n",
    "    twitter_idxs = [site_dic[key] for key in site_dic.keys() if key.find('twitter') > -1]\n",
    "    \n",
    "    for idx in twitter_idxs:\n",
    "        for i in range(9):\n",
    "            indices = sites[:, i] == idx\n",
    "            counter[indices] += 1\n",
    "    \n",
    "    return counter"
   ]
  },
  {
   "cell_type": "code",
   "execution_count": 42,
   "metadata": {},
   "outputs": [
    {
     "name": "stdout",
     "output_type": "stream",
     "text": [
      "twitter visits per session\n"
     ]
    },
    {
     "data": {
      "image/png": "[encoded data removed]",
      "text/plain": [
       "<Figure size 1152x576 with 4 Axes>"
      ]
     },
     "metadata": {
      "needs_background": "light"
     },
     "output_type": "display_data"
    }
   ],
   "source": [
    "print('twitter visits per session')\n",
    "train_twitter = calc_twitter_count(train_df)\n",
    "test_twitter = calc_twitter_count(test_df)\n",
    "plot_feature(train_twitter, test_twitter, y_train_full, bins=10);"
   ]
  },
  {
   "cell_type": "markdown",
   "metadata": {},
   "source": [
    "**Пока добавим к признакам, так как видно, что Alice сидит в facebook и twitter чуть чаще, чем основная масса пользователей**"
   ]
  },
  {
   "cell_type": "code",
   "execution_count": 90,
   "metadata": {},
   "outputs": [],
   "source": [
    "def form_facebook_feature(df):\n",
    "    ext_feature = calc_facebook_count(df)\n",
    "    \n",
    "    feature = pd.DataFrame(ext_feature)\n",
    "    feature.columns = ['facebook count']\n",
    "    \n",
    "    return feature\n",
    "\n",
    "def form_twitter_feature(df):\n",
    "    ext_feature = calc_twitter_count(df)\n",
    "    \n",
    "    feature = pd.DataFrame(ext_feature)\n",
    "    feature.columns = ['twitter count']\n",
    "    \n",
    "    return feature"
   ]
  },
  {
   "cell_type": "markdown",
   "metadata": {},
   "source": [
    "## Общий анализ признаков"
   ]
  },
  {
   "cell_type": "code",
   "execution_count": 49,
   "metadata": {},
   "outputs": [],
   "source": [
    "additional_features = form_day_of_week_feature(train_df)\n",
    "additional_features = additional_features.join(form_start_hour_feature(train_df))\n",
    "additional_features = additional_features.join(form_session_duration_feature(train_df))\n",
    "additional_features = additional_features.join(form_mean_duration_feature(train_df))\n",
    "additional_features = additional_features.join(form_youtube_duration_feature(train_df))\n",
    "additional_features = additional_features.join(form_top100_feature(train_df))\n",
    "additional_features = additional_features.join(form_worst100_feature(train_df))\n",
    "additional_features = additional_features.join(form_facebook_feature(train_df))\n",
    "additional_features = additional_features.join(form_twitter_feature(train_df))"
   ]
  },
  {
   "cell_type": "code",
   "execution_count": 50,
   "metadata": {},
   "outputs": [
    {
     "data": {
      "image/png": "[encoded data removed]",
      "text/plain": [
       "<Figure size 1152x792 with 2 Axes>"
      ]
     },
     "metadata": {
      "needs_background": "light"
     },
     "output_type": "display_data"
    }
   ],
   "source": [
    "corr = additional_features.corr('spearman') \n",
    "plt.figure(figsize = ( 16 , 11 )) \n",
    "sns.heatmap(corr,annot=True,fmt='.2f',cmap=\"YlGnBu\");"
   ]
  },
  {
   "cell_type": "markdown",
   "metadata": {},
   "source": [
    "**Видно, что явно скоррелированных между собой признаков нет.**"
   ]
  },
  {
   "cell_type": "markdown",
   "metadata": {},
   "source": [
    "## Формирование итогового пространства признаков"
   ]
  },
  {
   "cell_type": "code",
   "execution_count": 130,
   "metadata": {},
   "outputs": [
    {
     "name": "stdout",
     "output_type": "stream",
     "text": [
      "CPU times: user 7.46 s, sys: 28.1 ms, total: 7.48 s\n",
      "Wall time: 7.47 s\n"
     ]
    },
    {
     "data": {
      "text/plain": [
       "((253561, 50000), (82797, 50000))"
      ]
     },
     "execution_count": 130,
     "metadata": {},
     "output_type": "execute_result"
    }
   ],
   "source": [
    "%%time\n",
    "cv = CountVectorizer(ngram_range=(1, 3), max_features=50000)\n",
    "with open('train_sessions_text.txt') as inp_train_file:\n",
    "    X_train_full = cv.fit_transform(inp_train_file)\n",
    "with open('test_sessions_text.txt') as inp_test_file:\n",
    "    X_test = cv.transform(inp_test_file)\n",
    "X_train_full.shape, X_test.shape"
   ]
  },
  {
   "cell_type": "code",
   "execution_count": 131,
   "metadata": {},
   "outputs": [],
   "source": [
    "y_train_full = train_df.target.astype('int')"
   ]
  },
  {
   "cell_type": "code",
   "execution_count": 132,
   "metadata": {},
   "outputs": [],
   "source": [
    "logit = LogisticRegression(random_state=17)\n",
    "tscv = TimeSeriesSplit(n_splits=10)"
   ]
  },
  {
   "cell_type": "markdown",
   "metadata": {},
   "source": [
    "**Теперь начнём потихоньку добавлять признаки и смотреть на изменение качества**"
   ]
  },
  {
   "cell_type": "code",
   "execution_count": 133,
   "metadata": {},
   "outputs": [
    {
     "data": {
      "text/plain": [
       "(253561, 50005)"
      ]
     },
     "execution_count": 133,
     "metadata": {},
     "output_type": "execute_result"
    }
   ],
   "source": [
    "new_feature = form_start_hour_feature(train_df)\n",
    "X_new = hstack([X_train_full, new_feature.to_numpy()])\n",
    "X_new.shape"
   ]
  },
  {
   "cell_type": "code",
   "execution_count": 134,
   "metadata": {},
   "outputs": [
    {
     "name": "stdout",
     "output_type": "stream",
     "text": [
      "[0.89350915 0.81319687 0.94698498 0.96710304 0.93457888 0.94778423\n",
      " 0.96175167 0.93947521 0.9640468  0.95164582]\n",
      "mean score is 0.9320\n"
     ]
    }
   ],
   "source": [
    "cv_scores = cross_val_score(logit, X_new, y_train_full, cv=tscv, \n",
    "                                    scoring='roc_auc', n_jobs=-1)\n",
    "print(cv_scores)\n",
    "print('mean score is {:.4f}'.format(cv_scores.mean()))"
   ]
  },
  {
   "cell_type": "code",
   "execution_count": 135,
   "metadata": {},
   "outputs": [],
   "source": [
    "X_train_full = X_new\n",
    "new_feature_test = form_start_hour_feature(test_df)\n",
    "X_test = hstack([X_test, new_feature_test.to_numpy()])"
   ]
  },
  {
   "cell_type": "markdown",
   "metadata": {},
   "source": [
    "**Попробуем отправить решение (score=0.94801)**"
   ]
  },
  {
   "cell_type": "code",
   "execution_count": 136,
   "metadata": {},
   "outputs": [],
   "source": [
    "logit.fit(X_train_full, y_train_full)\n",
    "write_to_submission_file(logit.predict_proba(X_test)[:, 1], 'test_subm_1.csv')"
   ]
  },
  {
   "cell_type": "markdown",
   "metadata": {},
   "source": [
    "**Время суток начала сессии в зачёт**"
   ]
  },
  {
   "cell_type": "code",
   "execution_count": 137,
   "metadata": {},
   "outputs": [
    {
     "data": {
      "text/plain": [
       "(253561, 50013)"
      ]
     },
     "execution_count": 137,
     "metadata": {},
     "output_type": "execute_result"
    }
   ],
   "source": [
    "new_feature = form_day_of_week_feature(train_df)\n",
    "X_new = hstack([X_train_full, new_feature.to_numpy()])\n",
    "X_new.shape"
   ]
  },
  {
   "cell_type": "code",
   "execution_count": 138,
   "metadata": {},
   "outputs": [
    {
     "name": "stdout",
     "output_type": "stream",
     "text": [
      "[0.88074707 0.85980577 0.89523681 0.97484695 0.95290976 0.96431868\n",
      " 0.95216264 0.95557623 0.89732214 0.96744431]\n",
      "mean score is 0.9300\n"
     ]
    }
   ],
   "source": [
    "cv_scores = cross_val_score(logit, X_new, y_train_full, cv=tscv, \n",
    "                                    scoring='roc_auc', n_jobs=-1)\n",
    "print(cv_scores)\n",
    "print('mean score is {:.4f}'.format(cv_scores.mean()))"
   ]
  },
  {
   "cell_type": "markdown",
   "metadata": {},
   "source": [
    "**Как и говорилось, день недели начала сессии штука сомнительная, но также помним, что распределение тестовой и обучающей выборок различны, поэтому попробуем всё-таки на тестовой.**"
   ]
  },
  {
   "cell_type": "code",
   "execution_count": 75,
   "metadata": {},
   "outputs": [],
   "source": [
    "logit.fit(X_new, y_train_full)\n",
    "new_feature_test = form_day_of_week_feature(test_df)\n",
    "write_to_submission_file(logit.predict_proba(hstack([X_test, new_feature_test.to_numpy()]))[:, 1], 'test_subm_1.csv')"
   ]
  },
  {
   "cell_type": "markdown",
   "metadata": {},
   "source": [
    "**Действительно получили больший скор 0.95340.**"
   ]
  },
  {
   "cell_type": "code",
   "execution_count": 139,
   "metadata": {},
   "outputs": [],
   "source": [
    "X_train_full = X_new\n",
    "new_feature_test = form_day_of_week_feature(test_df)\n",
    "X_test = hstack([X_test, new_feature_test.to_numpy()])"
   ]
  },
  {
   "cell_type": "markdown",
   "metadata": {},
   "source": [
    "**Проверим, влияет ли на качество продолжительность сессии**"
   ]
  },
  {
   "cell_type": "code",
   "execution_count": 140,
   "metadata": {},
   "outputs": [
    {
     "data": {
      "text/plain": [
       "(253561, 50014)"
      ]
     },
     "execution_count": 140,
     "metadata": {},
     "output_type": "execute_result"
    }
   ],
   "source": [
    "session_scaller = StandardScaler()\n",
    "new_feature = form_session_duration_feature(train_df)\n",
    "X_new = hstack([X_train_full, session_scaller.fit_transform(new_feature)])\n",
    "X_new.shape"
   ]
  },
  {
   "cell_type": "code",
   "execution_count": 141,
   "metadata": {},
   "outputs": [
    {
     "name": "stdout",
     "output_type": "stream",
     "text": [
      "[0.88120437 0.86237346 0.89448182 0.97508792 0.95265674 0.96427471\n",
      " 0.95230742 0.95460657 0.9007068  0.967401  ]\n",
      "mean score is 0.9305\n"
     ]
    }
   ],
   "source": [
    "cv_scores = cross_val_score(logit, X_new, y_train_full, cv=tscv, \n",
    "                                    scoring='roc_auc', n_jobs=-1)\n",
    "print(cv_scores)\n",
    "print('mean score is {:.4f}'.format(cv_scores.mean()))"
   ]
  },
  {
   "cell_type": "markdown",
   "metadata": {},
   "source": [
    "**Качество немного улучшилось, можно в зачёт**"
   ]
  },
  {
   "cell_type": "code",
   "execution_count": 142,
   "metadata": {},
   "outputs": [],
   "source": [
    "X_train_full = X_new\n",
    "new_feature_test = form_session_duration_feature(test_df)\n",
    "X_test = hstack([X_test, session_scaller.transform(new_feature_test)])"
   ]
  },
  {
   "cell_type": "markdown",
   "metadata": {},
   "source": [
    "**Посмотрим на продолжительность посещения youtube**"
   ]
  },
  {
   "cell_type": "code",
   "execution_count": 143,
   "metadata": {},
   "outputs": [
    {
     "data": {
      "text/plain": [
       "(253561, 50015)"
      ]
     },
     "execution_count": 143,
     "metadata": {},
     "output_type": "execute_result"
    }
   ],
   "source": [
    "youtube_scaller = StandardScaler()\n",
    "new_feature = form_youtube_duration_feature(train_df)\n",
    "X_new = hstack([X_train_full, youtube_scaller.fit_transform(new_feature)])\n",
    "X_new.shape"
   ]
  },
  {
   "cell_type": "code",
   "execution_count": 144,
   "metadata": {},
   "outputs": [
    {
     "name": "stdout",
     "output_type": "stream",
     "text": [
      "[0.880957   0.86159814 0.8941871  0.97578047 0.95324044 0.96349267\n",
      " 0.9524345  0.95538014 0.89438548 0.96697662]\n",
      "mean score is 0.9298\n"
     ]
    }
   ],
   "source": [
    "cv_scores = cross_val_score(logit, X_new, y_train_full, cv=tscv, \n",
    "                                    scoring='roc_auc', n_jobs=-1)\n",
    "print(cv_scores)\n",
    "print('mean score is {:.4f}'.format(cv_scores.mean()))"
   ]
  },
  {
   "cell_type": "markdown",
   "metadata": {},
   "source": [
    "**Качество ухудшилось, нет большого смысла в добавлении.**"
   ]
  },
  {
   "cell_type": "markdown",
   "metadata": {},
   "source": [
    "**Посмотрим на среднюю продолжительность посещения сайта**"
   ]
  },
  {
   "cell_type": "code",
   "execution_count": 145,
   "metadata": {},
   "outputs": [
    {
     "data": {
      "text/plain": [
       "(253561, 50015)"
      ]
     },
     "execution_count": 145,
     "metadata": {},
     "output_type": "execute_result"
    }
   ],
   "source": [
    "mean_scaller = StandardScaler()\n",
    "new_feature = form_mean_duration_feature(train_df)\n",
    "X_new = hstack([X_train_full, mean_scaller.fit_transform(new_feature)])\n",
    "X_new.shape"
   ]
  },
  {
   "cell_type": "code",
   "execution_count": 146,
   "metadata": {},
   "outputs": [
    {
     "name": "stdout",
     "output_type": "stream",
     "text": [
      "[0.88129809 0.86246936 0.89620255 0.97524424 0.95273094 0.96448624\n",
      " 0.95269349 0.95531584 0.90016383 0.96741314]\n",
      "mean score is 0.9308\n"
     ]
    }
   ],
   "source": [
    "cv_scores = cross_val_score(logit, X_new, y_train_full, cv=tscv, \n",
    "                                    scoring='roc_auc', n_jobs=-1)\n",
    "print(cv_scores)\n",
    "print('mean score is {:.4f}'.format(cv_scores.mean()))"
   ]
  },
  {
   "cell_type": "markdown",
   "metadata": {},
   "source": [
    "**Самую малость, но лучше, значит в зачёт**"
   ]
  },
  {
   "cell_type": "code",
   "execution_count": 147,
   "metadata": {},
   "outputs": [],
   "source": [
    "X_train_full = X_new\n",
    "new_feature_test = form_mean_duration_feature(test_df)\n",
    "X_test = hstack([X_test, mean_scaller.transform(new_feature_test)])"
   ]
  },
  {
   "cell_type": "markdown",
   "metadata": {},
   "source": [
    "**по предыдущему опыту, с временными признаками всё неоднозначно, на всякий случай проверим решение**"
   ]
  },
  {
   "cell_type": "code",
   "execution_count": 121,
   "metadata": {},
   "outputs": [],
   "source": [
    "logit.fit(X_train_full, y_train_full)\n",
    "write_to_submission_file(logit.predict_proba(X_test)[:, 1], 'test_subm_1.csv')"
   ]
  },
  {
   "cell_type": "markdown",
   "metadata": {},
   "source": [
    "**Получили score 0.95377, можно двигаться дальше**"
   ]
  },
  {
   "cell_type": "markdown",
   "metadata": {},
   "source": [
    "**Пробуем топ посещений**"
   ]
  },
  {
   "cell_type": "code",
   "execution_count": 122,
   "metadata": {},
   "outputs": [
    {
     "data": {
      "text/plain": [
       "(253561, 50016)"
      ]
     },
     "execution_count": 122,
     "metadata": {},
     "output_type": "execute_result"
    }
   ],
   "source": [
    "top100_scaler = StandardScaler()\n",
    "new_feature = form_top100_feature(train_df)\n",
    "X_new = hstack([X_train_full, top100_scaler.fit_transform(new_feature)])\n",
    "X_new.shape"
   ]
  },
  {
   "cell_type": "code",
   "execution_count": 123,
   "metadata": {},
   "outputs": [
    {
     "name": "stdout",
     "output_type": "stream",
     "text": [
      "[0.88855235 0.87690472 0.90121639 0.97457991 0.95450717 0.97002586\n",
      " 0.95321629 0.95733301 0.89992823 0.96932063]\n",
      "mean score is 0.9346\n"
     ]
    }
   ],
   "source": [
    "cv_scores = cross_val_score(logit, X_new, y_train_full, cv=tscv, \n",
    "                                    scoring='roc_auc', n_jobs=-1)\n",
    "print(cv_scores)\n",
    "print('mean score is {:.4f}'.format(cv_scores.mean()))"
   ]
  },
  {
   "cell_type": "markdown",
   "metadata": {},
   "source": [
    "**Есть улучшение, в зачёт и проверяем**"
   ]
  },
  {
   "cell_type": "code",
   "execution_count": 125,
   "metadata": {},
   "outputs": [],
   "source": [
    "logit.fit(X_new, y_train_full)\n",
    "new_feature_test = form_top100_feature(test_df)\n",
    "write_to_submission_file(logit.predict_proba(hstack([X_test, top100_scaler.transform(new_feature_test)]))[:, 1], 'test_subm_top100.csv')"
   ]
  },
  {
   "cell_type": "markdown",
   "metadata": {},
   "source": [
    "**score 0.95336, а качество-то ухудшилось, добавлять не будем**"
   ]
  },
  {
   "cell_type": "markdown",
   "metadata": {},
   "source": [
    "**Второй топ**"
   ]
  },
  {
   "cell_type": "code",
   "execution_count": 148,
   "metadata": {},
   "outputs": [
    {
     "data": {
      "text/plain": [
       "(253561, 50016)"
      ]
     },
     "execution_count": 148,
     "metadata": {},
     "output_type": "execute_result"
    }
   ],
   "source": [
    "worst100_scaler = StandardScaler()\n",
    "new_feature = form_worst100_feature(train_df)\n",
    "X_new = hstack([X_train_full, worst100_scaler.fit_transform(new_feature)])\n",
    "X_new.shape"
   ]
  },
  {
   "cell_type": "code",
   "execution_count": 149,
   "metadata": {},
   "outputs": [
    {
     "name": "stdout",
     "output_type": "stream",
     "text": [
      "[0.90347028 0.87737109 0.90373891 0.97763883 0.95808011 0.96686478\n",
      " 0.95756924 0.95810776 0.90798066 0.97174342]\n",
      "mean score is 0.9383\n"
     ]
    }
   ],
   "source": [
    "cv_scores = cross_val_score(logit, X_new, y_train_full, cv=tscv, \n",
    "                                    scoring='roc_auc', n_jobs=-1)\n",
    "print(cv_scores)\n",
    "print('mean score is {:.4f}'.format(cv_scores.mean()))"
   ]
  },
  {
   "cell_type": "markdown",
   "metadata": {},
   "source": [
    "**Также идёт на проверку**"
   ]
  },
  {
   "cell_type": "code",
   "execution_count": 150,
   "metadata": {},
   "outputs": [],
   "source": [
    "logit.fit(X_new, y_train_full)\n",
    "new_feature_test = form_worst100_feature(test_df)\n",
    "write_to_submission_file(logit.predict_proba(hstack([X_test, worst100_scaler.transform(new_feature_test)]))[:, 1], 'test_subm_worst100.csv')"
   ]
  },
  {
   "cell_type": "markdown",
   "metadata": {},
   "source": [
    "**score 0.95407 хоть немного, но получше**"
   ]
  },
  {
   "cell_type": "code",
   "execution_count": 151,
   "metadata": {},
   "outputs": [],
   "source": [
    "X_train_full = X_new\n",
    "new_feature_test = form_worst100_feature(test_df)\n",
    "X_test = hstack([X_test, worst100_scaler.transform(new_feature_test)])"
   ]
  },
  {
   "cell_type": "markdown",
   "metadata": {},
   "source": [
    "**Посмотрим, поможет ли посещение отдельных сайтов**"
   ]
  },
  {
   "cell_type": "code",
   "execution_count": 152,
   "metadata": {},
   "outputs": [
    {
     "data": {
      "text/plain": [
       "(253561, 50017)"
      ]
     },
     "execution_count": 152,
     "metadata": {},
     "output_type": "execute_result"
    }
   ],
   "source": [
    "facebook_scaler = StandardScaler()\n",
    "new_feature = form_facebook_feature(train_df)\n",
    "X_new = hstack([X_train_full, facebook_scaler.fit_transform(new_feature)])\n",
    "X_new.shape"
   ]
  },
  {
   "cell_type": "code",
   "execution_count": 153,
   "metadata": {},
   "outputs": [
    {
     "name": "stdout",
     "output_type": "stream",
     "text": [
      "[0.90367151 0.87830333 0.90548523 0.97810125 0.95825325 0.96620734\n",
      " 0.95645446 0.95831182 0.90290331 0.97199427]\n",
      "mean score is 0.9380\n"
     ]
    }
   ],
   "source": [
    "cv_scores = cross_val_score(logit, X_new, y_train_full, cv=tscv, \n",
    "                                    scoring='roc_auc', n_jobs=-1)\n",
    "print(cv_scores)\n",
    "print('mean score is {:.4f}'.format(cv_scores.mean()))"
   ]
  },
  {
   "cell_type": "markdown",
   "metadata": {},
   "source": [
    "**facebook не помогает**"
   ]
  },
  {
   "cell_type": "code",
   "execution_count": 154,
   "metadata": {},
   "outputs": [
    {
     "data": {
      "text/plain": [
       "(253561, 50017)"
      ]
     },
     "execution_count": 154,
     "metadata": {},
     "output_type": "execute_result"
    }
   ],
   "source": [
    "twitter_scaler = StandardScaler()\n",
    "new_feature = form_twitter_feature(train_df)\n",
    "X_new = hstack([X_train_full, twitter_scaler.fit_transform(new_feature)])\n",
    "X_new.shape"
   ]
  },
  {
   "cell_type": "code",
   "execution_count": 155,
   "metadata": {},
   "outputs": [
    {
     "name": "stdout",
     "output_type": "stream",
     "text": [
      "[0.90306913 0.88056112 0.90551362 0.97801876 0.95811174 0.9668796\n",
      " 0.95750972 0.95796598 0.90023052 0.97199709]\n",
      "mean score is 0.9380\n"
     ]
    }
   ],
   "source": [
    "cv_scores = cross_val_score(logit, X_new, y_train_full, cv=tscv, \n",
    "                                    scoring='roc_auc', n_jobs=-1)\n",
    "print(cv_scores)\n",
    "print('mean score is {:.4f}'.format(cv_scores.mean()))"
   ]
  },
  {
   "cell_type": "markdown",
   "metadata": {},
   "source": [
    "**twitter тоже**"
   ]
  },
  {
   "cell_type": "markdown",
   "metadata": {},
   "source": [
    "**В Итоге получаем, что полезными признаками являются:**\n",
    "* время суток начала сессии\n",
    "* день недели начала сессии\n",
    "* продолжительность сессии\n",
    "* среднее время посещение сайта в сессии\n",
    "* количество посещений 100 самых непопулярных для Alice сайтов из 200 самых популярных среди пользователей"
   ]
  },
  {
   "cell_type": "markdown",
   "metadata": {},
   "source": [
    "# Выбор модели и её параметров"
   ]
  },
  {
   "cell_type": "markdown",
   "metadata": {},
   "source": [
    "**Сперва попробуем поподбирать параметры логистической регрессии**"
   ]
  },
  {
   "cell_type": "code",
   "execution_count": 156,
   "metadata": {},
   "outputs": [],
   "source": [
    "tscv = TimeSeriesSplit(n_splits=10)"
   ]
  },
  {
   "cell_type": "code",
   "execution_count": 157,
   "metadata": {},
   "outputs": [],
   "source": [
    "logit = LogisticRegression(random_state=17)"
   ]
  },
  {
   "cell_type": "markdown",
   "metadata": {},
   "source": [
    "**Здесь проходим по значениям параметра C вблизи оптимума (остальные диапазоны просто не приводились, и так обширная тетрадка вышла)**"
   ]
  },
  {
   "cell_type": "code",
   "execution_count": 158,
   "metadata": {},
   "outputs": [
    {
     "name": "stdout",
     "output_type": "stream",
     "text": [
      "CPU times: user 9.26 s, sys: 6.34 s, total: 15.6 s\n",
      "Wall time: 9min 26s\n"
     ]
    },
    {
     "data": {
      "text/plain": [
       "GridSearchCV(cv=TimeSeriesSplit(max_train_size=None, n_splits=10),\n",
       "             error_score=nan,\n",
       "             estimator=LogisticRegression(C=1.0, class_weight=None, dual=False,\n",
       "                                          fit_intercept=True,\n",
       "                                          intercept_scaling=1, l1_ratio=None,\n",
       "                                          max_iter=100, multi_class='auto',\n",
       "                                          n_jobs=None, penalty='l2',\n",
       "                                          random_state=17, solver='lbfgs',\n",
       "                                          tol=0.0001, verbose=0,\n",
       "                                          warm_start=False),\n",
       "             iid='deprecated', n_jobs=-1,\n",
       "             param_grid={'C': array([0.01      , 0.01274275, 0.01623777, 0.02069138, 0.02636651,\n",
       "       0.03359818, 0.04281332, 0.05455595, 0.06951928, 0.08858668,\n",
       "       0.11288379, 0.14384499, 0.18329807, 0.23357215, 0.29763514,\n",
       "       0.37926902, 0.48329302, 0.61584821, 0.78475997, 1.        ]),\n",
       "                         'class_weight': [None, 'balanced'],\n",
       "                         'solver': ['lbfgs', 'liblinear']},\n",
       "             pre_dispatch='2*n_jobs', refit=True, return_train_score=True,\n",
       "             scoring='roc_auc', verbose=0)"
      ]
     },
     "execution_count": 158,
     "metadata": {},
     "output_type": "execute_result"
    }
   ],
   "source": [
    "%%time\n",
    "param_grid = {\n",
    "    'C': np.logspace(-2, 0, 20),\n",
    "    'solver': ['lbfgs', 'liblinear'],\n",
    "    'class_weight': [None, 'balanced']\n",
    "}\n",
    "\n",
    "logit_grid_searcher = GridSearchCV(logit, param_grid=param_grid, \n",
    "                                   n_jobs=-1, cv=tscv, return_train_score=True, scoring='roc_auc')\n",
    "logit_grid_searcher.fit(X_train_full, y_train_full)"
   ]
  },
  {
   "cell_type": "code",
   "execution_count": 159,
   "metadata": {},
   "outputs": [
    {
     "name": "stdout",
     "output_type": "stream",
     "text": [
      "best score is 0.942 correspond to {'C': 0.11288378916846889, 'class_weight': None, 'solver': 'lbfgs'}\n"
     ]
    }
   ],
   "source": [
    "print('best score is {:.3f} correspond to {}'.format(logit_grid_searcher.best_score_, logit_grid_searcher.best_params_))"
   ]
  },
  {
   "cell_type": "markdown",
   "metadata": {},
   "source": [
    "**Попробуем также линейный SVM**"
   ]
  },
  {
   "cell_type": "code",
   "execution_count": 199,
   "metadata": {},
   "outputs": [],
   "source": [
    "svm = LinearSVC(random_state=17)"
   ]
  },
  {
   "cell_type": "code",
   "execution_count": 200,
   "metadata": {},
   "outputs": [
    {
     "name": "stdout",
     "output_type": "stream",
     "text": [
      "CPU times: user 12.4 s, sys: 847 ms, total: 13.2 s\n",
      "Wall time: 8min 56s\n"
     ]
    },
    {
     "data": {
      "text/plain": [
       "GridSearchCV(cv=TimeSeriesSplit(max_train_size=None, n_splits=10),\n",
       "             error_score=nan,\n",
       "             estimator=LinearSVC(C=1.0, class_weight=None, dual=True,\n",
       "                                 fit_intercept=True, intercept_scaling=1,\n",
       "                                 loss='squared_hinge', max_iter=1000,\n",
       "                                 multi_class='ovr', penalty='l2',\n",
       "                                 random_state=17, tol=0.0001, verbose=0),\n",
       "             iid='deprecated', n_jobs=-1,\n",
       "             param_grid={'C': array([1.00000000e-04, 1.62377...\n",
       "       6.95192796e-04, 1.12883789e-03, 1.83298071e-03, 2.97635144e-03,\n",
       "       4.83293024e-03, 7.84759970e-03, 1.27427499e-02, 2.06913808e-02,\n",
       "       3.35981829e-02, 5.45559478e-02, 8.85866790e-02, 1.43844989e-01,\n",
       "       2.33572147e-01, 3.79269019e-01, 6.15848211e-01, 1.00000000e+00]),\n",
       "                         'class_weight': [None, 'balanced'],\n",
       "                         'loss': ['hinge', 'squared_hinge']},\n",
       "             pre_dispatch='2*n_jobs', refit=True, return_train_score=True,\n",
       "             scoring='roc_auc', verbose=0)"
      ]
     },
     "execution_count": 200,
     "metadata": {},
     "output_type": "execute_result"
    }
   ],
   "source": [
    "%%time\n",
    "param_grid = {\n",
    "    'C': np.logspace(-4, 0, 20),\n",
    "    'loss': ['hinge', 'squared_hinge'],\n",
    "    'class_weight': [None, 'balanced']\n",
    "}\n",
    "\n",
    "svm_grid_searcher = GridSearchCV(svm, param_grid=param_grid, \n",
    "                                  n_jobs=-1, cv=tscv, return_train_score=True, scoring='roc_auc')\n",
    "svm_grid_searcher.fit(X_train_full, y_train_full)"
   ]
  },
  {
   "cell_type": "code",
   "execution_count": 201,
   "metadata": {},
   "outputs": [
    {
     "name": "stdout",
     "output_type": "stream",
     "text": [
      "best score is 0.912 correspond to {'C': 0.0018329807108324356, 'class_weight': 'balanced', 'loss': 'squared_hinge'}\n"
     ]
    }
   ],
   "source": [
    "print('best score is {:.3f} correspond to {}'.format(svm_grid_searcher.best_score_, svm_grid_searcher.best_params_))"
   ]
  },
  {
   "cell_type": "markdown",
   "metadata": {},
   "source": [
    "**Логистическая регрессия несколько лучше**"
   ]
  },
  {
   "cell_type": "code",
   "execution_count": 160,
   "metadata": {},
   "outputs": [],
   "source": [
    "best_logit = logit_grid_searcher.best_estimator_"
   ]
  },
  {
   "cell_type": "code",
   "execution_count": 161,
   "metadata": {},
   "outputs": [
    {
     "data": {
      "text/plain": [
       "LogisticRegression(C=0.11288378916846889, class_weight=None, dual=False,\n",
       "                   fit_intercept=True, intercept_scaling=1, l1_ratio=None,\n",
       "                   max_iter=100, multi_class='auto', n_jobs=None, penalty='l2',\n",
       "                   random_state=17, solver='lbfgs', tol=0.0001, verbose=0,\n",
       "                   warm_start=False)"
      ]
     },
     "execution_count": 161,
     "metadata": {},
     "output_type": "execute_result"
    }
   ],
   "source": [
    "best_logit.fit(X_train_full, y_train_full)"
   ]
  },
  {
   "cell_type": "code",
   "execution_count": 162,
   "metadata": {},
   "outputs": [],
   "source": [
    "y_proba = best_logit.predict_proba(X_test)"
   ]
  },
  {
   "cell_type": "code",
   "execution_count": 163,
   "metadata": {},
   "outputs": [],
   "source": [
    "write_to_submission_file(y_proba[:, 1], './answers/final_submission.csv')"
   ]
  },
  {
   "cell_type": "markdown",
   "metadata": {},
   "source": [
    "**Итоговый score 0.94628**"
   ]
  },
  {
   "cell_type": "markdown",
   "metadata": {},
   "source": [
    "# Дополнение обучающей выборки"
   ]
  },
  {
   "cell_type": "markdown",
   "metadata": {},
   "source": [
    "**Попробуем дополнить обучающую выборку сессиями Alice**"
   ]
  },
  {
   "cell_type": "code",
   "execution_count": 237,
   "metadata": {},
   "outputs": [],
   "source": [
    "# readind train and test datasets\n",
    "time_columns = ['time%s' % i for i in range(1, 11)]\n",
    "site_columns = ['site%s' % i for i in range(1, 11)]\n",
    "\n",
    "train_df = pd.read_csv(os.path.join(PATH_TO_DATA, 'train_sessions.csv'),\n",
    "                       index_col='session_id',\n",
    "                       parse_dates=time_columns)\n",
    "train_df = train_df.sort_values(by='time1')\n",
    "train_df[site_columns] = train_df[site_columns].fillna(0).astype('int')"
   ]
  },
  {
   "cell_type": "code",
   "execution_count": 238,
   "metadata": {},
   "outputs": [],
   "source": [
    "alice_sites = train_df[train_df.target == 1][site_columns].to_numpy().reshape(-1)\n",
    "alice_times = train_df[train_df.target == 1][time_columns].to_numpy().reshape(-1)\n",
    "indices = alice_sites != 0\n",
    "alice_sites = alice_sites[indices]\n",
    "alice_times = alice_times[indices]"
   ]
  },
  {
   "cell_type": "code",
   "execution_count": 239,
   "metadata": {},
   "outputs": [],
   "source": [
    "alice_sessions = []\n",
    "data_len = len(alice_sites)\n",
    "for i in range(data_len):\n",
    "    start_time = alice_times[i]\n",
    "    current_session = []\n",
    "    for j in range(10):\n",
    "        if (i + j) > data_len - 1: \n",
    "            break\n",
    "        if (alice_times[i + j] - start_time)/np.timedelta64(1, 's') > 30*60:\n",
    "            break\n",
    "        current_session += [alice_sites[i + j], alice_times[i + j]]\n",
    "    alice_sessions.append(current_session)"
   ]
  },
  {
   "cell_type": "code",
   "execution_count": 242,
   "metadata": {},
   "outputs": [],
   "source": [
    "additional_df = pd.DataFrame(alice_sessions)\n",
    "col_names = []\n",
    "for i in range(len(site_columns)):\n",
    "    col_names += [site_columns[i], time_columns[i]]\n",
    "additional_df.columns = col_names\n",
    "additional_df['target'] = 1"
   ]
  },
  {
   "cell_type": "code",
   "execution_count": 245,
   "metadata": {},
   "outputs": [],
   "source": [
    "train_df = train_df.append(additional_df)"
   ]
  },
  {
   "cell_type": "code",
   "execution_count": 231,
   "metadata": {},
   "outputs": [
    {
     "name": "stdout",
     "output_type": "stream",
     "text": [
      "CPU times: user 1.33 s, sys: 0 ns, total: 1.33 s\n",
      "Wall time: 1.35 s\n"
     ]
    }
   ],
   "source": [
    "%%time\n",
    "for i in range(1, len(time_columns)):\n",
    "    col1 = time_columns[i - 1]\n",
    "    col2 = time_columns[i]\n",
    "    \n",
    "    dt = (additional_df[col2] - additional_df[col1]).apply(lambda x: x.total_seconds()).fillna(0).astype('int').to_numpy()\n",
    "    additional_df['time_diff{}'.format(i)] = dt"
   ]
  },
  {
   "cell_type": "code",
   "execution_count": 236,
   "metadata": {},
   "outputs": [
    {
     "data": {
      "text/plain": [
       "Index(['site1', 'time1', 'site2', 'time2', 'site3', 'time3', 'site4', 'time4',\n",
       "       'site5', 'time5', 'site6', 'time6', 'site7', 'time7', 'site8', 'time8',\n",
       "       'site9', 'time9', 'site10', 'time10', 'target', 'time_diff1',\n",
       "       'time_diff2', 'time_diff3', 'time_diff4', 'time_diff5', 'time_diff6',\n",
       "       'time_diff7', 'time_diff8', 'time_diff9'],\n",
       "      dtype='object')"
      ]
     },
     "execution_count": 236,
     "metadata": {},
     "output_type": "execute_result"
    }
   ],
   "source": [
    "train_df.columns"
   ]
  },
  {
   "cell_type": "code",
   "execution_count": 247,
   "metadata": {},
   "outputs": [
    {
     "name": "stdout",
     "output_type": "stream",
     "text": [
      "CPU times: user 13.4 s, sys: 287 ms, total: 13.7 s\n",
      "Wall time: 13.7 s\n"
     ]
    }
   ],
   "source": [
    "%%time\n",
    "train_df[site_columns].to_csv('train_sessions_expand_text.txt', \n",
    "                              sep=' ', index=None, header=None)\n",
    "cv = CountVectorizer(ngram_range=(1, 4), max_features=50000)\n",
    "with open('train_sessions_expand_text.txt') as inp_train_file:\n",
    "    X_train_full = cv.fit_transform(inp_train_file)\n",
    "with open('test_sessions_text.txt') as inp_test_file:\n",
    "    X_test = cv.transform(inp_test_file)\n",
    "X_train_full.shape, X_test.shape\n",
    "y_train_full = train_df.target.astype('int')"
   ]
  },
  {
   "cell_type": "code",
   "execution_count": 248,
   "metadata": {},
   "outputs": [
    {
     "name": "stdout",
     "output_type": "stream",
     "text": [
      "CPU times: user 22.2 s, sys: 2.97 ms, total: 22.2 s\n",
      "Wall time: 22.2 s\n"
     ]
    }
   ],
   "source": [
    "%%time\n",
    "for i in range(1, len(time_columns)):\n",
    "    col1 = time_columns[i - 1]\n",
    "    col2 = time_columns[i]\n",
    "    \n",
    "    dt = (train_df[col2] - train_df[col1]).apply(lambda x: x.total_seconds()).fillna(0).astype('int').to_numpy()\n",
    "    train_df['time_diff{}'.format(i)] = dt\n",
    "    \n",
    "    dt = (test_df[col2] - test_df[col1]).apply(lambda x: x.total_seconds()).fillna(0).astype('int').to_numpy()\n",
    "    test_df['time_diff{}'.format(i)] = dt\n",
    "    \n",
    "time_diff_columns = ['time_diff{}'.format(i) for i in range(1, 10)]"
   ]
  },
  {
   "cell_type": "code",
   "execution_count": 249,
   "metadata": {},
   "outputs": [],
   "source": [
    "additional_features = form_start_hour_feature(train_df)\n",
    "additional_features = additional_features.join(form_day_of_week_feature(train_df))\n",
    "additional_features = additional_features.join(form_youtube_duration_feature(train_df))\n",
    "additional_features = additional_features.join(form_top30_feature(train_df))\n",
    "\n",
    "additional_features_test = form_start_hour_feature(test_df)\n",
    "additional_features_test = additional_features_test.join(form_day_of_week_feature(test_df))\n",
    "additional_features_test = additional_features_test.join(form_youtube_duration_feature(test_df))\n",
    "additional_features_test = additional_features_test.join(form_top30_feature(test_df))"
   ]
  },
  {
   "cell_type": "code",
   "execution_count": 250,
   "metadata": {},
   "outputs": [
    {
     "name": "stdout",
     "output_type": "stream",
     "text": [
      "(276330, 50013)\n",
      "(82797, 50013)\n"
     ]
    }
   ],
   "source": [
    "X_train_full = hstack([X_train_full, additional_features.to_numpy()])\n",
    "X_test = hstack([X_test, additional_features_test.to_numpy()])\n",
    "print(X_train_full.shape)\n",
    "print(X_test.shape)"
   ]
  },
  {
   "cell_type": "code",
   "execution_count": 252,
   "metadata": {},
   "outputs": [
    {
     "data": {
      "text/plain": [
       "LogisticRegression(C=0.19473684210526315, class_weight=None, dual=False,\n",
       "                   fit_intercept=True, intercept_scaling=1, l1_ratio=None,\n",
       "                   max_iter=100, multi_class='auto', n_jobs=None, penalty='l2',\n",
       "                   random_state=17, solver='lbfgs', tol=0.0001, verbose=0,\n",
       "                   warm_start=False)"
      ]
     },
     "execution_count": 252,
     "metadata": {},
     "output_type": "execute_result"
    }
   ],
   "source": [
    "best_logit.fit(X_train_full, y_train_full)"
   ]
  },
  {
   "cell_type": "code",
   "execution_count": 253,
   "metadata": {},
   "outputs": [],
   "source": [
    "y_proba = best_logit.predict_proba(X_test)"
   ]
  },
  {
   "cell_type": "code",
   "execution_count": 254,
   "metadata": {},
   "outputs": [],
   "source": [
    "write_to_submission_file(y_proba[:, 1], './answers/final_submission_expand.csv')"
   ]
  },
  {
   "cell_type": "markdown",
   "metadata": {},
   "source": [
    "# Выводы"
   ]
  },
  {
   "cell_type": "markdown",
   "metadata": {},
   "source": [
    "**В итоге для построения модели идентификации ользователя Alice используется следующий алгоритм:**\n",
    "* **Преобразование последовательности сайтов в сесси с помощию CountVectorizer с параметрами ngrams_range=(1, 3) и max_features=50000**\n",
    "* **Добавление признака времени суток начала сессии ([8-11] -- утро, [12-18] -- день, [18-21] -- вечер, остальные -- ночь, а также основные часы посещения сайтов самой Alice [9, 12, 13, 15-18])**\n",
    "* **Добавление признака дня недели начала сессии, а также основных дней посещения Alice [mon, tue, thu, fri]**\n",
    "* **Добавление признака продолжительности сессии, нормированного StandardScaller**\n",
    "* **Добавление признака среднец продолжительности посещения сайта, нормированного StandardScaller**\n",
    "* **Добавление признака посещения одного из топ 100 сайтов Alice, нормированного StandardScaller**\n",
    "* **Добавление признака посещения одного из 100 самых непосещаемых Alice сайтов из топ-200, нормированного StandardScaller**\n",
    "* **Добавление признака посещения twitter, нормированного StandardScaller**\n",
    "* **Обучение модели логистической регрессии (LogisticRegression с параметрами C=0.19473684210526315, solver='lbfgs') на полученном датасете**"
   ]
  },
  {
   "cell_type": "markdown",
   "metadata": {},
   "source": [
    "**Таким образом получена модель с метрикой roc_auc = 0.94628 на тестовых данных соревнования. Таким образом можем утверждать, что вероятность получить положительную оценку классификатора на случайно выбранной сессии Alice много выше, чем на случайной сессии произвольного пользователя.**"
   ]
  },
  {
   "cell_type": "markdown",
   "metadata": {},
   "source": [
    "**Данная модель может быть применена для идентификации взлома пользователя и заблаговременной блокировке доступа с необходимостью подтверждения личности**"
   ]
  }
 ],
 "metadata": {
  "kernelspec": {
   "display_name": "Python 3",
   "language": "python",
   "name": "python3"
  },
  "language_info": {
   "codemirror_mode": {
    "name": "ipython",
    "version": 3
   },
   "file_extension": ".py",
   "mimetype": "text/x-python",
   "name": "python",
   "nbconvert_exporter": "python",
   "pygments_lexer": "ipython3",
   "version": "3.7.3"
  }
 },
 "nbformat": 4,
 "nbformat_minor": 2
}
