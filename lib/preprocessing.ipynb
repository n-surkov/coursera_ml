{
 "cells": [
  {
   "cell_type": "code",
   "execution_count": 1,
   "metadata": {},
   "outputs": [],
   "source": [
    "import numpy as np\n",
    "import pandas as pd"
   ]
  },
  {
   "cell_type": "code",
   "execution_count": 28,
   "metadata": {},
   "outputs": [],
   "source": [
    "raw_data = pd.read_csv('./data/bike_sharing_demand.csv', header = 0, sep = ',')"
   ]
  },
  {
   "cell_type": "code",
   "execution_count": 29,
   "metadata": {},
   "outputs": [],
   "source": [
    "#применение действия к столбцу\n",
    "raw_data.datetime = raw_data.datetime.apply(pd.to_datetime)\n",
    "#удаление столбцов\n",
    "raw_data = raw_data.drop(['datetime'], axis = 1)\n",
    "#заполнение нуллов\n",
    "raw_data.fillna('', inplace=True)"
   ]
  },
  {
   "cell_type": "code",
   "execution_count": 30,
   "metadata": {},
   "outputs": [],
   "source": [
    "y = raw_data['count'].values\n",
    "X = raw_data.drop(['count'], axis = 1)"
   ]
  },
  {
   "cell_type": "code",
   "execution_count": 31,
   "metadata": {},
   "outputs": [
    {
     "name": "stdout",
     "output_type": "stream",
     "text": [
      "True\n"
     ]
    }
   ],
   "source": [
    "#Если всё получается просто замечательно, стоит проверить признаки\n",
    "print(np.all(X.registered + X.casual == y))\n",
    "X.drop(['casual', 'registered'], axis = 1, inplace = True)"
   ]
  },
  {
   "cell_type": "code",
   "execution_count": 37,
   "metadata": {},
   "outputs": [],
   "source": [
    "# Нужно граммотно обращаться с категориальными, бинарыми и вещественными признаками\n",
    "import sklearn.preprocessing\n",
    "#определим эти признаки\n",
    "binary_data_columns = ['holiday', 'workingday']\n",
    "binary_data_indices = np.array([(column in binary_data_columns) for column in X.columns], dtype = bool)\n",
    "categorical_data_columns = ['season', 'weather'] \n",
    "categorical_data_indices = np.array([(column in categorical_data_columns) for column in X.columns], dtype = bool)\n",
    "numeric_data_columns = ['temp', 'atemp', 'humidity', 'windspeed']\n",
    "numeric_data_indices = np.array([(column in numeric_data_columns) for column in X.columns], dtype = bool)"
   ]
  },
  {
   "cell_type": "code",
   "execution_count": 25,
   "metadata": {},
   "outputs": [
    {
     "data": {
      "text/plain": [
       "FunctionTransformer(accept_sparse=False, check_inverse=True,\n",
       "          func=<function <lambda> at 0x000002B2065552F0>, inv_kw_args=None,\n",
       "          inverse_func=None, kw_args=None, pass_y='deprecated',\n",
       "          validate=None)"
      ]
     },
     "execution_count": 25,
     "metadata": {},
     "output_type": "execute_result"
    }
   ],
   "source": [
    "# Делает из функции транформер с методом fit (для использования в пайплайне)\n",
    "transformer = sklearn.preprocessing.FunctionTransformer(lambda data: data[:, binary_data_indices])"
   ]
  },
  {
   "cell_type": "code",
   "execution_count": 34,
   "metadata": {},
   "outputs": [
    {
     "name": "stderr",
     "output_type": "stream",
     "text": [
      "C:\\ProgramData\\Anaconda3\\lib\\site-packages\\sklearn\\preprocessing\\data.py:645: DataConversionWarning: Data with input dtype int64, float64 were all converted to float64 by StandardScaler.\n",
      "  return self.partial_fit(X, y)\n",
      "C:\\ProgramData\\Anaconda3\\lib\\site-packages\\ipykernel_launcher.py:4: DataConversionWarning: Data with input dtype int64, float64 were all converted to float64 by StandardScaler.\n",
      "  after removing the cwd from sys.path.\n"
     ]
    }
   ],
   "source": [
    "#Масштабирование признаков\n",
    "scaler = sklearn.preprocessing.StandardScaler()\n",
    "scaler.fit(X[numeric_data_columns], y)\n",
    "scaled_X = scaler.transform(X[numeric_data_columns])"
   ]
  },
  {
   "cell_type": "code",
   "execution_count": 38,
   "metadata": {},
   "outputs": [],
   "source": [
    "# обработка категориальных признаков, превращением их в вещественные\n",
    "encoder = sklearn.preprocessing.OneHotEncoder(handle_unknown = 'ignore')\n",
    "encoder.fit(X[categorical_data_columns], y)\n",
    "encoded_X = encoder.transform(X[categorical_data_columns])"
   ]
  },
  {
   "cell_type": "code",
   "execution_count": 40,
   "metadata": {},
   "outputs": [],
   "source": [
    "# Можно полиномиально преобразовать признаки (существенно увеличивает пространство признаков)\n",
    "transform = sklearn.preprocessing.PolynomialFeatures(2)\n",
    "train_poly = transform.fit_transform(scaled_X)\n",
    "test_poly = transform.transform(scaled_X) # не забываем преобразовать также признаки в тесте"
   ]
  },
  {
   "cell_type": "markdown",
   "metadata": {},
   "source": [
    "## Обработка текстов"
   ]
  },
  {
   "cell_type": "code",
   "execution_count": 1,
   "metadata": {},
   "outputs": [],
   "source": [
    "# возьмём один из стандартных датасетов\n",
    "from sklearn.datasets import fetch_20newsgroups\n",
    "# возьмём из него небольшую подвыборку\n",
    "simple_dataset = fetch_20newsgroups(\n",
    "    subset='train', \n",
    "    categories=['comp.sys.mac.hardware', 'soc.religion.christian', 'rec.sport.hockey'])"
   ]
  },
  {
   "cell_type": "code",
   "execution_count": 3,
   "metadata": {},
   "outputs": [],
   "source": [
    "#обработка признаков\n",
    "from sklearn.feature_extraction.text import CountVectorizer, TfidfVectorizer\n",
    "\n",
    "vectorizer = TfidfVectorizer(max_df=500, min_df=10)\n",
    "matrix = vectorizer.fit_transform(simple_dataset.data)\n",
    "\n",
    "vectorizer.get_feature_names() #посмотреть вектор фичей"
   ]
  },
  {
   "cell_type": "code",
   "execution_count": null,
   "metadata": {},
   "outputs": [],
   "source": []
  }
 ],
 "metadata": {
  "kernelspec": {
   "display_name": "Python 3",
   "language": "python",
   "name": "python3"
  },
  "language_info": {
   "codemirror_mode": {
    "name": "ipython",
    "version": 3
   },
   "file_extension": ".py",
   "mimetype": "text/x-python",
   "name": "python",
   "nbconvert_exporter": "python",
   "pygments_lexer": "ipython3",
   "version": "3.7.3"
  }
 },
 "nbformat": 4,
 "nbformat_minor": 4
}
