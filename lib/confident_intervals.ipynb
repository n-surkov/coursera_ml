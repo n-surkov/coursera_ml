{
 "cells": [
  {
   "cell_type": "markdown",
   "metadata": {},
   "source": [
    "# Построение доверительных интервалов"
   ]
  },
  {
   "cell_type": "code",
   "execution_count": 36,
   "metadata": {},
   "outputs": [],
   "source": [
    "import numpy as np\n",
    "import scipy"
   ]
  },
  {
   "cell_type": "code",
   "execution_count": 12,
   "metadata": {},
   "outputs": [],
   "source": [
    "set1 = np.array([1.        , 0.890625  , 0.9375    , 0.796875  , 1.        ,\n",
    "       0.921875  , 1.        , 0.921875  , 0.59375   , 0.984375  ,\n",
    "       0.73469388, 0.93877551, 0.87755102, 1.        , 0.95918367,\n",
    "       0.97959184, 0.85714286, 1.        , 0.97959184, 0.89795918])\n",
    "set2 = np.array([1.        , 0.890625  , 0.953125  , 0.859375  , 1.        ,\n",
    "       0.921875  , 1.        , 1.        , 0.90625   , 1.        ,\n",
    "       0.95918367, 0.97959184, 0.87755102, 1.        , 0.93877551,\n",
    "       1.        , 0.83673469, 0.95918367, 0.97959184, 0.89795918])"
   ]
  },
  {
   "cell_type": "markdown",
   "metadata": {},
   "source": [
    "## Оценка среднего"
   ]
  },
  {
   "cell_type": "code",
   "execution_count": 18,
   "metadata": {},
   "outputs": [],
   "source": [
    "set1 = np.array([1.        , 0.890625  , 0.9375    , 0.796875  , 1.        ,\n",
    "       0.921875  , 1.        , 0.921875  , 0.59375   , 0.984375  ,\n",
    "       0.73469388, 0.93877551, 0.87755102, 1.        , 0.95918367,\n",
    "       0.97959184, 0.85714286, 1.        , 0.97959184, 0.89795918])"
   ]
  },
  {
   "cell_type": "markdown",
   "metadata": {},
   "source": [
    "Точечная оценка mean и $\\sigma^2$"
   ]
  },
  {
   "cell_type": "code",
   "execution_count": 13,
   "metadata": {},
   "outputs": [
    {
     "name": "stdout",
     "output_type": "stream",
     "text": [
      "0.91356824 0.10454390572446609\n"
     ]
    }
   ],
   "source": [
    "set1_mean = set1.mean() \n",
    "set1_std = set1.std(ddof=1) # ddof -- количество степеней свободы. Ставим 1 т.к. 1 степень свободы ушла на оценку среднего\n",
    "print(set1_mean, set1_std)"
   ]
  },
  {
   "cell_type": "markdown",
   "metadata": {},
   "source": [
    "$100(1-\\alpha)$% доверительный интервал при известной $\\sigma$ ($z$-интервал). $$\\bar{X}_n \\pm z_{1-\\frac{\\alpha}{2}} \\frac{\\sigma}{\\sqrt{n}}$$"
   ]
  },
  {
   "cell_type": "code",
   "execution_count": 14,
   "metadata": {},
   "outputs": [
    {
     "name": "stdout",
     "output_type": "stream",
     "text": [
      "0.6944376048558547 1.1326988751441454\n",
      "0.91356824\n",
      "0.11180339887498948\n",
      "20\n"
     ]
    }
   ],
   "source": [
    "from statsmodels.stats.weightstats import _zconfint_generic\n",
    "sigma = 0.25\n",
    "alpha = 0.05\n",
    "sigma_corr = np.sqrt(sigma/len(set1)) # В силу центральной предельной теоремы\n",
    "\n",
    "left_bord, right_bord = _zconfint_generic(set1_mean, sigma_corr, alpha, 'two-sided')\n",
    "print(left_bord, right_bord)"
   ]
  },
  {
   "cell_type": "markdown",
   "metadata": {},
   "source": [
    "$100(1-\\alpha)$% доверительный интервал при неизвестной $\\sigma$ ($t$-интервал). $$\\bar{X}_n \\pm t_{1-\\frac{\\alpha}{2}} \\frac{S}{\\sqrt{n}}$$"
   ]
  },
  {
   "cell_type": "code",
   "execution_count": 17,
   "metadata": {},
   "outputs": [
    {
     "name": "stdout",
     "output_type": "stream",
     "text": [
      "0.8646401860175451 0.962496293982455\n"
     ]
    }
   ],
   "source": [
    "from statsmodels.stats.weightstats import _tconfint_generic\n",
    "sigma = set1_std\n",
    "alpha = 0.05\n",
    "sigma_corr = sigma/np.sqrt(len(set1)) # В силу центральной предельной теоремы\n",
    "\n",
    "left_bord, right_bord = _tconfint_generic(set1_mean, sigma_corr, len(set1) - 1, alpha, 'two-sided')\n",
    "print(left_bord, right_bord)"
   ]
  },
  {
   "cell_type": "markdown",
   "metadata": {},
   "source": [
    "## Оценка медианы"
   ]
  },
  {
   "cell_type": "markdown",
   "metadata": {},
   "source": [
    "В выборке $X^n = (x_1, \\dots ,x_n)$ доверительный интервал для медианы: $$x_k < \\hat{x} < x_{n - k + 1}$$, где \n",
    "$$k = \\frac{1}{2}(n - 1.64\\sqrt{n} - 1), \\text{при} \\alpha = 0.1$$\n",
    "$$k = \\frac{1}{2}(n - 1.96\\sqrt{n} - 1), \\text{при} \\alpha = 0.05$$\n",
    "$$k = \\frac{1}{2}(n - 2.58\\sqrt{n} - 1), \\text{при} \\alpha = 0.01$$\n",
    "\n",
    "На основе [источника](http://www.machinelearning.ru/wiki/index.php?title=%D0%98%D0%BD%D1%82%D0%B5%D1%80%D0%B2%D0%B0%D0%BB%D1%8C%D0%BD%D0%B0%D1%8F_%D0%BE%D1%86%D0%B5%D0%BD%D0%BA%D0%B0)"
   ]
  },
  {
   "cell_type": "code",
   "execution_count": 1,
   "metadata": {},
   "outputs": [],
   "source": [
    "def calc_t_conf_int(data, alpha=0.05):\n",
    "    if alpha == 0.01:\n",
    "        k = 2.58\n",
    "    elif alpha == 0.05:\n",
    "        k = 1.96\n",
    "    elif alpha == 0.1:\n",
    "        k = 1.64\n",
    "    else:\n",
    "        raise ValueError('alpha may be only 0.01, 0.05, 0.1')\n",
    "    \n",
    "    n = data.size - 1\n",
    "    sorted_data = np.sort(data)\n",
    "    \n",
    "    index = int((n - k * np.sqrt(n) - 1) / 2)\n",
    "\n",
    "    left_border = sorted_data[index]\n",
    "    right_border = sorted_data[n - index + 1]\n",
    "    \n",
    "    return (left_border, right_border)"
   ]
  },
  {
   "cell_type": "markdown",
   "metadata": {},
   "source": [
    "## Оценка доли"
   ]
  },
  {
   "cell_type": "code",
   "execution_count": 22,
   "metadata": {},
   "outputs": [
    {
     "data": {
      "text/plain": [
       "0.49771"
      ]
     },
     "execution_count": 22,
     "metadata": {},
     "output_type": "execute_result"
    }
   ],
   "source": [
    "np.random.seed(1)\n",
    "statistical_population = np.random.randint(2, size = 100000) #генеральная совокупность\n",
    "random_sample = np.random.choice(statistical_population, size = 1000) # выборка из совокупности\n",
    "#истинное значение доли\n",
    "statistical_population.mean()"
   ]
  },
  {
   "cell_type": "markdown",
   "metadata": {},
   "source": [
    "Точечная оценка доли"
   ]
  },
  {
   "cell_type": "code",
   "execution_count": 23,
   "metadata": {},
   "outputs": [
    {
     "data": {
      "text/plain": [
       "0.502"
      ]
     },
     "execution_count": 23,
     "metadata": {},
     "output_type": "execute_result"
    }
   ],
   "source": [
    "random_sample.mean()"
   ]
  },
  {
   "cell_type": "markdown",
   "metadata": {},
   "source": [
    "Доверительный интервал на основе нормального распределения (когда выборка большая и оценка доли близка к 0.5).\n",
    "$$\\hat{p}\\pm z_{1-\\frac{\\alpha}{2}} \\sqrt{\\frac{\\hat{p}\\left(1-\\hat{p}\\right)}{n}}$$"
   ]
  },
  {
   "cell_type": "code",
   "execution_count": 26,
   "metadata": {},
   "outputs": [
    {
     "name": "stdout",
     "output_type": "stream",
     "text": [
      "0.4710104963037765 0.5329895036962234\n"
     ]
    }
   ],
   "source": [
    "from statsmodels.stats.proportion import proportion_confint\n",
    "normal_interval = proportion_confint(sum(random_sample), len(random_sample), method = 'normal')\n",
    "print(normal_interval[0], normal_interval[1])"
   ]
  },
  {
   "cell_type": "markdown",
   "metadata": {},
   "source": [
    "Доверительный интервал Уилсона (когда выборка мала или оценка доли близка к 0 или 1).\n",
    "$$\\frac1{ 1 + \\frac{z^2}{n} } \\left( \\hat{p} + \\frac{z^2}{2n} \\pm z \\sqrt{ \\frac{ \\hat{p}\\left(1-\\hat{p}\\right)}{n} + \\frac{\n",
    "z^2}{4n^2} } \\right), \\;\\; z \\equiv z_{1-\\frac{\\alpha}{2}}$$ "
   ]
  },
  {
   "cell_type": "code",
   "execution_count": 27,
   "metadata": {},
   "outputs": [
    {
     "name": "stdout",
     "output_type": "stream",
     "text": [
      "0.47106219334840704 0.5329224996176508\n"
     ]
    }
   ],
   "source": [
    "wilson_interval = proportion_confint(sum(random_sample), len(random_sample), method = 'wilson')\n",
    "print(wilson_interval[0], wilson_interval[1])"
   ]
  },
  {
   "cell_type": "markdown",
   "metadata": {},
   "source": [
    "Расчёт требуемого размера выборки для доверительного интервала заданной ширины"
   ]
  },
  {
   "cell_type": "code",
   "execution_count": 28,
   "metadata": {},
   "outputs": [
    {
     "name": "stdout",
     "output_type": "stream",
     "text": [
      "9604\n",
      "0.019992928893600548\n"
     ]
    }
   ],
   "source": [
    "from statsmodels.stats.proportion import samplesize_confint_proportion\n",
    "delta = 0.02\n",
    "n_samples = int(np.ceil(samplesize_confint_proportion(random_sample.mean(), delta / 2)))\n",
    "print(n_samples)\n",
    "#проверка\n",
    "np.random.seed(1)\n",
    "random_sample = np.random.choice(statistical_population, size = n_samples)\n",
    "wilson_interval = proportion_confint(sum(random_sample), len(random_sample), method = 'wilson')\n",
    "print(wilson_interval[1] - wilson_interval[0])"
   ]
  },
  {
   "cell_type": "markdown",
   "metadata": {},
   "source": [
    "## Доверительные интервалы для двух долей"
   ]
  },
  {
   "cell_type": "code",
   "execution_count": 31,
   "metadata": {},
   "outputs": [],
   "source": [
    "import pandas as pd"
   ]
  },
  {
   "cell_type": "code",
   "execution_count": 29,
   "metadata": {},
   "outputs": [
    {
     "data": {
      "text/plain": [
       "0.49771"
      ]
     },
     "execution_count": 29,
     "metadata": {},
     "output_type": "execute_result"
    }
   ],
   "source": [
    "np.random.seed(1)\n",
    "statistical_population = np.random.randint(2, size = 100000) #генеральная совокупность\n",
    "random_sample_1 = np.random.choice(statistical_population, size = 1000) # первая выборка из совокупности\n",
    "random_sample_2 = np.random.choice(statistical_population, size = 1000) # первая выборка из совокупности\n",
    "#истинное значение доли, а следовательно и доли двух образцов должны совпадать\n",
    "statistical_population.mean()"
   ]
  },
  {
   "cell_type": "code",
   "execution_count": 38,
   "metadata": {},
   "outputs": [],
   "source": [
    "def make_conf_matrix_ind(sample1, sample2):\n",
    "    output = pd.DataFrame([[sample1.sum(), len(sample1 - sample1.sum())], \n",
    "                           [sample2.sum(), len(sample2 - sample2.sum())]])\n",
    "    output.columns = ['pos', 'neg']\n",
    "    output['sum'] = output['pos'] + output['neg']\n",
    "    return output\n",
    "\n",
    "def make_conf_matrix_rel(sample1, sample2):\n",
    "    if len(sample1) != len(sample2):\n",
    "        raise ValueError('it is not relative samples')\n",
    "    output = {\n",
    "        'e': np.logical_and(sample1 > 0.5, sample2 > 0.5).sum(),\n",
    "        'f': np.logical_and(sample1 > 0.5, sample2 < 0.5).sum(),\n",
    "        'g': np.logical_and(sample1 < 0.5, sample2 > 0.5).sum(),\n",
    "        'h': np.logical_and(sample1 < 0.5, sample2 < 0.5).sum(),\n",
    "        'n': float(len(sample1)),\n",
    "    }\n",
    "    \n",
    "    return output\n",
    "\n",
    "matrix_ind = make_conf_matrix_ind(random_sample_1, random_sample_2)\n",
    "matrix_rel = make_conf_matrix_rel(random_sample_1, random_sample_2)"
   ]
  },
  {
   "cell_type": "markdown",
   "metadata": {},
   "source": [
    "Доверительный интервал для разности долей (независимые выборки)\n",
    "\n",
    "|  | $X_1$ | $X_2$ | \n",
    "|------|------|------|\n",
    "| 1 | a | b |\n",
    "| 0 | c | d |\n",
    "| $\\sum$ | $n_1$| $n_2$ |\n",
    "\n",
    "$$ \\hat{p}_1 = \\frac{a}{n_1}$$\n",
    "\n",
    "$$ \\hat{p}_2 = \\frac{b}{n_2}$$\n",
    "\n",
    "\n",
    "$$\\text{Доверительный интервал для }p_1 - p_2\\colon \\;\\; \\hat{p}_1 - \\hat{p}_2 \\pm z_{1-\\frac{\\alpha}{2}}\\sqrt{\\frac{\\hat{p}_1(1 - \\hat{p}_1)}{n_1} + \\frac{\\hat{p}_2(1 - \\hat{p}_2)}{n_2}}$$"
   ]
  },
  {
   "cell_type": "code",
   "execution_count": 37,
   "metadata": {},
   "outputs": [
    {
     "name": "stdout",
     "output_type": "stream",
     "text": [
      "confidence interval: [-0.027719, 0.039703]\n"
     ]
    }
   ],
   "source": [
    "def proportions_confint_diff_ind(matrix, alpha = 0.05):    \n",
    "    z = scipy.stats.norm.ppf(1 - alpha / 2.)   \n",
    "    \n",
    "    n1 = matrix.iloc[0]['sum']\n",
    "    n2 = matrix.iloc[1]['sum']\n",
    "    \n",
    "    p1 = matrix.iloc[0]['pos'] / n1\n",
    "    p2 = matrix.iloc[1]['pos'] / n1\n",
    "    \n",
    "    left_boundary = (p1 - p2) - z * np.sqrt(p1 * (1 - p1)/ n1 + p2 * (1 - p2)/ n2)\n",
    "    right_boundary = (p1 - p2) + z * np.sqrt(p1 * (1 - p1)/ n1 + p2 * (1 - p2)/ n2)\n",
    "    \n",
    "    return (left_boundary, right_boundary)\n",
    "\n",
    "print(\"confidence interval: [%f, %f]\" % proportions_confint_diff_ind(matrix_ind))"
   ]
  },
  {
   "cell_type": "markdown",
   "metadata": {},
   "source": [
    "Доверительный интервал для разности долей (связанные выборки)\n",
    "\n",
    "  |$X_1$ \\ $X_2$ | 1| 0 | $\\sum$|\n",
    "  |--------------|--|---|-------|\n",
    "  |1  | e | f | e + f|\n",
    "  |0  | g | h | g + h|\n",
    "  |$\\sum$ | e + g| f + h | n |\n",
    "  \n",
    "$$ \\hat{p}_1 = \\frac{e + f}{n}$$\n",
    "\n",
    "$$ \\hat{p}_2 = \\frac{e + g}{n}$$\n",
    "\n",
    "$$ \\hat{p}_1 - \\hat{p}_2 = \\frac{f - g}{n}$$\n",
    "\n",
    "\n",
    "$$\\text{Доверительный интервал для }p_1 - p_2\\colon \\;\\;  \\frac{f - g}{n} \\pm z_{1-\\frac{\\alpha}{2}}\\sqrt{\\frac{f + g}{n^2} - \\frac{(f - g)^2}{n^3}}$$"
   ]
  },
  {
   "cell_type": "code",
   "execution_count": 39,
   "metadata": {},
   "outputs": [
    {
     "name": "stdout",
     "output_type": "stream",
     "text": [
      "confidence interval: [-0.033892, 0.051892]\n"
     ]
    }
   ],
   "source": [
    "def proportions_confint_diff_rel(matrix, alpha = 0.05):\n",
    "    z = scipy.stats.norm.ppf(1 - alpha / 2.)\n",
    "    \n",
    "    n = matrix['n']\n",
    "    f = matrix['f']\n",
    "    g = matrix['g']\n",
    "    \n",
    "    left_boundary = float(f - g) / n  - z * np.sqrt(float((f + g)) / n**2 - float((f - g)**2) / n**3)\n",
    "    right_boundary = float(f - g) / n  + z * np.sqrt(float((f + g)) / n**2 - float((f - g)**2) / n**3)\n",
    "    return (left_boundary, right_boundary)\n",
    "\n",
    "print(\"confidence interval: [%f, %f]\" % proportions_confint_diff_rel(matrix_rel))"
   ]
  },
  {
   "cell_type": "markdown",
   "metadata": {},
   "source": [
    "## Доверительные интервалы на основе бутстрапа"
   ]
  },
  {
   "cell_type": "code",
   "execution_count": 41,
   "metadata": {},
   "outputs": [],
   "source": [
    "def get_bootstrap_samples(data, n_samples):\n",
    "    indices = np.random.randint(0, len(data), (n_samples, len(data)))\n",
    "    samples = data[indices]\n",
    "    return samples\n",
    "\n",
    "def stat_intervals(stat, alpha):\n",
    "    boundaries = np.percentile(stat, [100 * alpha / 2., 100 * (1 - alpha / 2.)])\n",
    "    return boundaries"
   ]
  },
  {
   "cell_type": "markdown",
   "metadata": {},
   "source": [
    "Интервальная оценка среднего"
   ]
  },
  {
   "cell_type": "code",
   "execution_count": 46,
   "metadata": {},
   "outputs": [
    {
     "name": "stdout",
     "output_type": "stream",
     "text": [
      "95% confidence interval for the ILEC median repair time: [0.472    0.532025]\n"
     ]
    }
   ],
   "source": [
    "sample_1_median_scores = list(map(np.mean, get_bootstrap_samples(random_sample_1, 1000)))\n",
    "\n",
    "print(\"95% confidence interval for the ILEC median repair time:\",  stat_intervals(sample_1_median_scores, 0.05))"
   ]
  },
  {
   "cell_type": "markdown",
   "metadata": {},
   "source": [
    "Интервальная оценка разности средних"
   ]
  },
  {
   "cell_type": "code",
   "execution_count": 48,
   "metadata": {},
   "outputs": [
    {
     "name": "stdout",
     "output_type": "stream",
     "text": [
      "95% confidence interval for the difference between medians [-0.053025  0.036025]\n"
     ]
    }
   ],
   "source": [
    "sample_1_mean_scores = list(map(np.mean, get_bootstrap_samples(random_sample_1, 1000)))\n",
    "sample_2_mean_scores = list(map(np.mean, get_bootstrap_samples(random_sample_2, 1000)))\n",
    "\n",
    "delta_mean_scores = list(map(lambda x: x[1] - x[0], zip(sample_1_mean_scores, sample_2_mean_scores)))\n",
    "print(\"95% confidence interval for the difference between means\",  stat_intervals(delta_mean_scores, 0.05))"
   ]
  },
  {
   "cell_type": "code",
   "execution_count": null,
   "metadata": {},
   "outputs": [],
   "source": []
  }
 ],
 "metadata": {
  "kernelspec": {
   "display_name": "Python 3",
   "language": "python",
   "name": "python3"
  },
  "language_info": {
   "codemirror_mode": {
    "name": "ipython",
    "version": 3
   },
   "file_extension": ".py",
   "mimetype": "text/x-python",
   "name": "python",
   "nbconvert_exporter": "python",
   "pygments_lexer": "ipython3",
   "version": "3.7.3"
  }
 },
 "nbformat": 4,
 "nbformat_minor": 4
}
